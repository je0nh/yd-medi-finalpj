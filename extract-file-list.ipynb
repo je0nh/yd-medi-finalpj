{
 "cells": [
  {
   "cell_type": "code",
   "execution_count": 33,
   "id": "73983260-ee6b-4eef-a954-758ce5916a2a",
   "metadata": {
    "execution": {
     "iopub.execute_input": "2023-11-22T15:28:54.488210Z",
     "iopub.status.busy": "2023-11-22T15:28:54.487889Z",
     "iopub.status.idle": "2023-11-22T15:28:54.491873Z",
     "shell.execute_reply": "2023-11-22T15:28:54.491092Z",
     "shell.execute_reply.started": "2023-11-22T15:28:54.488185Z"
    },
    "tags": []
   },
   "outputs": [],
   "source": [
    "# Import libraries\n",
    "import boto3\n",
    "import json\n",
    "import heapq\n",
    "from collections import deque\n",
    "# import itertools\n",
    "# import pandas as pd\n",
    "# from io import StringIO"
   ]
  },
  {
   "cell_type": "code",
   "execution_count": 2,
   "id": "6e41c471-7c64-457a-aa55-a000cd009c3d",
   "metadata": {
    "execution": {
     "iopub.execute_input": "2023-11-22T15:12:54.392066Z",
     "iopub.status.busy": "2023-11-22T15:12:54.391763Z",
     "iopub.status.idle": "2023-11-22T15:12:54.395745Z",
     "shell.execute_reply": "2023-11-22T15:12:54.394946Z",
     "shell.execute_reply.started": "2023-11-22T15:12:54.392040Z"
    },
    "tags": []
   },
   "outputs": [],
   "source": [
    "# Set variables for s3 connection\n",
    "region = 'ap-northeast-2'\n",
    "bucket = 'emr-data-sync'\n",
    "prefix = 'segment-logs/pAzAoFnKNpLfHxRmZ2oDF4/'\n",
    "max_keys = 1000\n",
    "delimiter = '/'"
   ]
  },
  {
   "cell_type": "code",
   "execution_count": 3,
   "id": "99653f6b-9e93-4e32-b149-2639781bf6e7",
   "metadata": {
    "execution": {
     "iopub.execute_input": "2023-11-22T15:12:55.240072Z",
     "iopub.status.busy": "2023-11-22T15:12:55.239742Z",
     "iopub.status.idle": "2023-11-22T15:12:55.581167Z",
     "shell.execute_reply": "2023-11-22T15:12:55.580485Z",
     "shell.execute_reply.started": "2023-11-22T15:12:55.240047Z"
    },
    "tags": []
   },
   "outputs": [
    {
     "name": "stdout",
     "output_type": "stream",
     "text": [
      "Folders Count : 145\n",
      "\n",
      "If \"Folders Count\" is near 1,000 Please Examine \"max_keys\"\n",
      ">>> max_keys = 1000\n"
     ]
    }
   ],
   "source": [
    "# S3 onnection with boto3\n",
    "s3 = boto3.client('s3', region_name=region)\n",
    "response = s3.list_objects(Bucket=bucket)\n",
    "\n",
    "objects = s3.list_objects_v2(Bucket=bucket,\n",
    "                             Prefix=prefix,\n",
    "                             MaxKeys=max_keys,\n",
    "                             Delimiter=delimiter)\n",
    "\n",
    "print(f\"Folders Count : {objects['KeyCount']}\")\n",
    "print()\n",
    "print(f\"If \\\"Folders Count\\\" is near 1,000 Please Examine \\\"max_keys\\\"\")\n",
    "print(f\">>> max_keys = {max_keys}\")"
   ]
  },
  {
   "cell_type": "code",
   "execution_count": 7,
   "id": "b8f3e83c-851d-42b0-97d2-6926fd9c0c28",
   "metadata": {
    "execution": {
     "iopub.execute_input": "2023-11-22T15:14:22.518913Z",
     "iopub.status.busy": "2023-11-22T15:14:22.518606Z",
     "iopub.status.idle": "2023-11-22T15:14:22.524158Z",
     "shell.execute_reply": "2023-11-22T15:14:22.523483Z",
     "shell.execute_reply.started": "2023-11-22T15:14:22.518888Z"
    },
    "tags": []
   },
   "outputs": [
    {
     "name": "stdout",
     "output_type": "stream",
     "text": [
      "Dequeued Folders Count : 145\n",
      "\n",
      "All Folders Successfully Dequeued\n"
     ]
    }
   ],
   "source": [
    "# Nested folders list to dequeue\n",
    "folder_prefix_queue = deque()\n",
    "\n",
    "for obj in objects.get('CommonPrefixes'):\n",
    "    folder_prefix_queue.appendleft(obj.get('Prefix'))\n",
    "\n",
    "print(f\"Dequeued Folders Count : {len(folder_prefix_queue)}\\n\")\n",
    "if objects['KeyCount'] == len(folder_prefix_queue):\n",
    "    print(f\"All Folders Successfully Dequeued\")\n",
    "else:\n",
    "    print(f\"Failed to Deque All Folders.\\nPlease Check The Code\")"
   ]
  },
  {
   "cell_type": "code",
   "execution_count": 34,
   "id": "bbdcae50-ef6f-4be1-a95e-43b2dd86912f",
   "metadata": {
    "execution": {
     "iopub.execute_input": "2023-11-22T15:30:47.754438Z",
     "iopub.status.busy": "2023-11-22T15:30:47.754115Z",
     "iopub.status.idle": "2023-11-22T15:31:16.963011Z",
     "shell.execute_reply": "2023-11-22T15:31:16.962245Z",
     "shell.execute_reply.started": "2023-11-22T15:30:47.754409Z"
    },
    "tags": []
   },
   "outputs": [
    {
     "name": "stdout",
     "output_type": "stream",
     "text": [
      "Dequeued Files Count : 144484\n",
      "\n"
     ]
    }
   ],
   "source": [
    "files_heapq = []\n",
    "\n",
    "for prefix_deque in folder_prefix_list:\n",
    "    ooo = s3.list_objects_v2(Bucket=bucket,\n",
    "                            Prefix=prefix_deque,\n",
    "                            MaxKeys=max_keys,\n",
    "                            Delimiter=delimiter)\n",
    "    for item in ooo['Contents']:\n",
    "        files = item['Key']\n",
    "        heapq.heappush(files_heapq, files)\n",
    "\n",
    "print(f\"HeapQueued Files Count : {len(files_heapq)}\")\n",
    "\n",
    "files_sorted = [heappop(files_heapq) for i in range(len(files_heapq))]"
   ]
  },
  {
   "cell_type": "code",
   "execution_count": 48,
   "id": "f4175156-b408-4bb1-ab48-21f740d06ddc",
   "metadata": {
    "execution": {
     "iopub.execute_input": "2023-11-22T15:40:47.814427Z",
     "iopub.status.busy": "2023-11-22T15:40:47.814085Z",
     "iopub.status.idle": "2023-11-22T15:40:47.830207Z",
     "shell.execute_reply": "2023-11-22T15:40:47.829398Z",
     "shell.execute_reply.started": "2023-11-22T15:40:47.814389Z"
    },
    "tags": []
   },
   "outputs": [
    {
     "data": {
      "text/plain": [
       "['segment-logs/pAzAoFnKNpLfHxRmZ2oDF4/1652313600000/1652401446281.a1d3b8d1ab53.8624813.0982b2b8-ce0d-477a-a66b-be96227fd569.gz',\n",
       " 'segment-logs/pAzAoFnKNpLfHxRmZ2oDF4/1661644800000/1661657543271.events-archiver-36.a254827.15747224-726a-4ab3-8cc6-fba8560d3977.gz',\n",
       " 'segment-logs/pAzAoFnKNpLfHxRmZ2oDF4/1658534400000/1658554457679.events-archiver-6.a254827.4fbf035f-a300-450c-b8a9-1768ab97f8ac.gz',\n",
       " 'segment-logs/pAzAoFnKNpLfHxRmZ2oDF4/1658534400000/1658554466849.events-archiver-23.a254827.b238d945-ac50-4332-bfcc-81f7c4fbc4dd.gz',\n",
       " 'segment-logs/pAzAoFnKNpLfHxRmZ2oDF4/1652313600000/1652401474086.9e37f35030d8.8624813.c24db0a9-98c2-4706-a061-893c50cbe8a0.gz',\n",
       " 'segment-logs/pAzAoFnKNpLfHxRmZ2oDF4/1664582400000/1664603699843.events-archiver-57.16d05ba.85602dab-eb99-4558-bcc3-243e4d5173d2.gz',\n",
       " 'segment-logs/pAzAoFnKNpLfHxRmZ2oDF4/1661644800000/1661657674557.events-archiver-23.a254827.7e7d53a9-8e14-4275-83c6-bbd60e5b60d2.gz',\n",
       " 'segment-logs/pAzAoFnKNpLfHxRmZ2oDF4/1663200000000/1663209256663.events-archiver-6.a254827.2b3656d3-49ff-4d96-8f87-beb8d9ccb2bf.gz',\n",
       " 'segment-logs/pAzAoFnKNpLfHxRmZ2oDF4/1658534400000/1658554636441.events-archiver-22.a254827.987c38b8-29af-4f48-8cc9-ec563094f8af.gz']"
      ]
     },
     "execution_count": 48,
     "metadata": {},
     "output_type": "execute_result"
    }
   ],
   "source": [
    "files_sorted[-5:]"
   ]
  }
 ],
 "metadata": {
  "kernelspec": {
   "display_name": "Python 3",
   "language": "python",
   "name": "python3"
  },
  "language_info": {
   "codemirror_mode": {
    "name": "ipython",
    "version": 3
   },
   "file_extension": ".py",
   "mimetype": "text/x-python",
   "name": "python",
   "nbconvert_exporter": "python",
   "pygments_lexer": "ipython3",
   "version": "3.9.18"
  }
 },
 "nbformat": 4,
 "nbformat_minor": 5
}
