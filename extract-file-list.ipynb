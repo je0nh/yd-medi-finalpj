{
 "cells": [
  {
   "cell_type": "code",
   "execution_count": 33,
   "id": "73983260-ee6b-4eef-a954-758ce5916a2a",
   "metadata": {
    "execution": {
     "iopub.execute_input": "2023-11-22T15:28:54.488210Z",
     "iopub.status.busy": "2023-11-22T15:28:54.487889Z",
     "iopub.status.idle": "2023-11-22T15:28:54.491873Z",
     "shell.execute_reply": "2023-11-22T15:28:54.491092Z",
     "shell.execute_reply.started": "2023-11-22T15:28:54.488185Z"
    },
    "tags": []
   },
   "outputs": [],
   "source": [
    "# Import libraries\n",
    "import boto3\n",
    "import json\n",
    "import heapq\n",
    "from heapq import heappop, heappush\n",
    "from collections import deque\n",
    "# import itertools\n",
    "# import pandas as pd\n",
    "# from io import StringIO"
   ]
  },
  {
   "cell_type": "code",
   "execution_count": 2,
   "id": "6e41c471-7c64-457a-aa55-a000cd009c3d",
   "metadata": {
    "execution": {
     "iopub.execute_input": "2023-11-22T15:12:54.392066Z",
     "iopub.status.busy": "2023-11-22T15:12:54.391763Z",
     "iopub.status.idle": "2023-11-22T15:12:54.395745Z",
     "shell.execute_reply": "2023-11-22T15:12:54.394946Z",
     "shell.execute_reply.started": "2023-11-22T15:12:54.392040Z"
    },
    "tags": []
   },
   "outputs": [],
   "source": [
    "# Set variables for s3 connection\n",
    "region = 'ap-northeast-2'\n",
    "\n",
    "bucket = 'emr-data-sync'\n",
    "prefix = 'segment-logs/pAzAoFnKNpLfHxRmZ2oDF4/'\n",
    "max_keys = 1000\n",
    "delimiter = '/'"
   ]
  },
  {
   "cell_type": "code",
   "execution_count": 3,
   "id": "99653f6b-9e93-4e32-b149-2639781bf6e7",
   "metadata": {
    "execution": {
     "iopub.execute_input": "2023-11-22T15:12:55.240072Z",
     "iopub.status.busy": "2023-11-22T15:12:55.239742Z",
     "iopub.status.idle": "2023-11-22T15:12:55.581167Z",
     "shell.execute_reply": "2023-11-22T15:12:55.580485Z",
     "shell.execute_reply.started": "2023-11-22T15:12:55.240047Z"
    },
    "tags": []
   },
   "outputs": [
    {
     "name": "stdout",
     "output_type": "stream",
     "text": [
      "Folders Count : 145\n",
      "\n",
      "If \"Folders Count\" is near 1,000 Please Examine \"max_keys\"\n",
      ">>> max_keys = 1000\n"
     ]
    }
   ],
   "source": [
    "# S3 onnection with boto3\n",
    "s3 = boto3.client('s3', region_name=region)\n",
    "response = s3.list_objects(Bucket=bucket)\n",
    "\n",
    "objects = s3.list_objects_v2(Bucket=bucket,\n",
    "                             Prefix=prefix,\n",
    "                             MaxKeys=max_keys,\n",
    "                             Delimiter=delimiter)\n",
    "\n",
    "print(f\"Folders Count : {objects['KeyCount']}\")\n",
    "print()\n",
    "print(f\"If \\\"Folders Count\\\" is near 1,000 Please Examine \\\"max_keys\\\"\")\n",
    "print(f\">>> max_keys = {max_keys}\")"
   ]
  },
  {
   "cell_type": "code",
   "execution_count": 7,
   "id": "b8f3e83c-851d-42b0-97d2-6926fd9c0c28",
   "metadata": {
    "execution": {
     "iopub.execute_input": "2023-11-22T15:14:22.518913Z",
     "iopub.status.busy": "2023-11-22T15:14:22.518606Z",
     "iopub.status.idle": "2023-11-22T15:14:22.524158Z",
     "shell.execute_reply": "2023-11-22T15:14:22.523483Z",
     "shell.execute_reply.started": "2023-11-22T15:14:22.518888Z"
    },
    "tags": []
   },
   "outputs": [
    {
     "name": "stdout",
     "output_type": "stream",
     "text": [
      "Dequeued Folders Count : 145\n",
      "\n",
      "All Folders Successfully Dequeued\n"
     ]
    }
   ],
   "source": [
    "# Nested folders list to dequeue\n",
    "folder_prefix_queue = deque()\n",
    "\n",
    "for obj in objects.get('CommonPrefixes'):\n",
    "    folder_prefix_queue.appendleft(obj.get('Prefix'))\n",
    "\n",
    "print(f\"Dequeued Folders Count : {len(folder_prefix_queue)}\\n\")\n",
    "if objects['KeyCount'] == len(folder_prefix_queue):\n",
    "    print(f\"All Folders Successfully Dequeued\")\n",
    "else:\n",
    "    print(f\"Failed to Deque All Folders.\\nPlease Check The Code\")"
   ]
  },
  {
   "cell_type": "code",
   "execution_count": 77,
   "id": "bbdcae50-ef6f-4be1-a95e-43b2dd86912f",
   "metadata": {
    "execution": {
     "iopub.execute_input": "2023-11-22T16:02:10.719576Z",
     "iopub.status.busy": "2023-11-22T16:02:10.719265Z",
     "iopub.status.idle": "2023-11-22T16:02:40.292119Z",
     "shell.execute_reply": "2023-11-22T16:02:40.291249Z",
     "shell.execute_reply.started": "2023-11-22T16:02:10.719539Z"
    },
    "tags": []
   },
   "outputs": [
    {
     "name": "stdout",
     "output_type": "stream",
     "text": [
      "HeapQueued Files Count : 144484\n"
     ]
    }
   ],
   "source": [
    "files_heapq = []\n",
    "\n",
    "for prefix_deque in folder_prefix_queue:\n",
    "    ooo = s3.list_objects_v2(Bucket=bucket,\n",
    "                            Prefix=prefix_deque,\n",
    "                            MaxKeys=max_keys,\n",
    "                            Delimiter=delimiter)\n",
    "    for item in ooo['Contents']:\n",
    "        files = item['Key']\n",
    "        heapq.heappush(files_heapq, files)\n",
    "\n",
    "print(f\"HeapQueued Files Count : {len(files_heapq)}\")\n",
    "\n",
    "files_sorted = [heappop(files_heapq) for i in range(len(files_heapq))]"
   ]
  },
  {
   "cell_type": "code",
   "execution_count": 86,
   "id": "59ef934a-d652-4cdf-8229-d3cb6f758294",
   "metadata": {
    "execution": {
     "iopub.execute_input": "2023-11-22T16:08:15.639202Z",
     "iopub.status.busy": "2023-11-22T16:08:15.638900Z",
     "iopub.status.idle": "2023-11-22T16:08:15.644049Z",
     "shell.execute_reply": "2023-11-22T16:08:15.643301Z",
     "shell.execute_reply.started": "2023-11-22T16:08:15.639166Z"
    },
    "tags": []
   },
   "outputs": [
    {
     "data": {
      "text/plain": [
       "['segment-logs/pAzAoFnKNpLfHxRmZ2oDF4/1664755200000/1664809253370.events-archiver-56.16d05ba.e606fcea-67c3-4b66-af90-0a4d8e307244.gz',\n",
       " 'segment-logs/pAzAoFnKNpLfHxRmZ2oDF4/1664755200000/1664809339252.events-archiver-0.16d05ba.03c8332a-75cb-4fee-85bf-79f2007b7426.gz',\n",
       " 'segment-logs/pAzAoFnKNpLfHxRmZ2oDF4/1664755200000/1664809350234.events-archiver-32.16d05ba.151d2cc1-cc74-4118-919b-29b597717be3.gz',\n",
       " 'segment-logs/pAzAoFnKNpLfHxRmZ2oDF4/1664755200000/1664809365411.events-archiver-44.16d05ba.5b987746-6c84-4dc8-a0c5-039468d07ee4.gz',\n",
       " 'segment-logs/pAzAoFnKNpLfHxRmZ2oDF4/1664755200000/1664809401168.events-archiver-1.16d05ba.41a99a59-b8c6-4af4-9aa0-41b5d7705dc7.gz']"
      ]
     },
     "execution_count": 86,
     "metadata": {},
     "output_type": "execute_result"
    }
   ],
   "source": [
    "files_sorted[-5:]"
   ]
  },
  {
   "cell_type": "code",
   "execution_count": null,
   "id": "c4cda085-995e-4381-a915-37ad44a200cc",
   "metadata": {},
   "outputs": [],
   "source": []
  }
 ],
 "metadata": {
  "kernelspec": {
   "display_name": "Python 3",
   "language": "python",
   "name": "python3"
  },
  "language_info": {
   "codemirror_mode": {
    "name": "ipython",
    "version": 3
   },
   "file_extension": ".py",
   "mimetype": "text/x-python",
   "name": "python",
   "nbconvert_exporter": "python",
   "pygments_lexer": "ipython3",
   "version": "3.9.18"
  }
 },
 "nbformat": 4,
 "nbformat_minor": 5
}
