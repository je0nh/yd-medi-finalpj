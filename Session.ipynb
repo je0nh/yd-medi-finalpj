{
 "cells": [
  {
   "cell_type": "code",
   "execution_count": 2,
   "id": "6870555b-c170-4899-afc6-2d245df3ddf4",
   "metadata": {
    "execution": {
     "iopub.execute_input": "2023-12-04T14:32:52.475194Z",
     "iopub.status.busy": "2023-12-04T14:32:52.475023Z",
     "iopub.status.idle": "2023-12-04T14:32:52.747077Z",
     "shell.execute_reply": "2023-12-04T14:32:52.746453Z",
     "shell.execute_reply.started": "2023-12-04T14:32:52.475172Z"
    },
    "tags": []
   },
   "outputs": [
    {
     "data": {
      "application/vnd.jupyter.widget-view+json": {
       "model_id": "19bdbbe726be4e74a54832a136c6af2c",
       "version_major": 2,
       "version_minor": 0
      },
      "text/plain": [
       "VBox()"
      ]
     },
     "metadata": {},
     "output_type": "display_data"
    },
    {
     "data": {
      "application/vnd.jupyter.widget-view+json": {
       "model_id": "",
       "version_major": 2,
       "version_minor": 0
      },
      "text/plain": [
       "FloatProgress(value=0.0, bar_style='info', description='Progress:', layout=Layout(height='25px', width='50%'),…"
      ]
     },
     "metadata": {},
     "output_type": "display_data"
    }
   ],
   "source": [
    "# Import Library\n",
    "from pyspark.sql import SparkSession\n",
    "from pyspark.sql.functions import *\n",
    "from pyspark.sql import functions as F\n",
    "from pyspark.sql.window import Window"
   ]
  },
  {
   "cell_type": "code",
   "execution_count": null,
   "metadata": {},
   "outputs": [],
   "source": [
    "# Create Spark Session\n",
    "spark = SparkSession.builder.appName(\"Session\").getOrCreate()"
   ]
  },
  {
   "cell_type": "code",
   "execution_count": 3,
   "id": "522ab9d7-06b0-463f-b32d-dcccc50fd0c4",
   "metadata": {
    "execution": {
     "iopub.execute_input": "2023-12-04T14:33:40.668732Z",
     "iopub.status.busy": "2023-12-04T14:33:40.668394Z",
     "iopub.status.idle": "2023-12-04T14:56:50.732572Z",
     "shell.execute_reply": "2023-12-04T14:56:50.731805Z",
     "shell.execute_reply.started": "2023-12-04T14:33:40.668690Z"
    },
    "tags": []
   },
   "outputs": [
    {
     "data": {
      "application/vnd.jupyter.widget-view+json": {
       "model_id": "a1c23ee79a7344d483857db5c8923f66",
       "version_major": 2,
       "version_minor": 0
      },
      "text/plain": [
       "VBox()"
      ]
     },
     "metadata": {},
     "output_type": "display_data"
    },
    {
     "data": {
      "application/vnd.jupyter.widget-view+json": {
       "model_id": "",
       "version_major": 2,
       "version_minor": 0
      },
      "text/plain": [
       "FloatProgress(value=0.0, bar_style='info', description='Progress:', layout=Layout(height='25px', width='50%'),…"
      ]
     },
     "metadata": {},
     "output_type": "display_data"
    }
   ],
   "source": [
    "# Import Data\n",
    "df = spark.read.option(\"mergeSchema\",\n",
    "                       \"true\").json(\"s3://emr-data-sync/segment-logs/*/*\")"
   ]
  },
  {
   "cell_type": "code",
   "execution_count": 4,
   "id": "4bbf3189-077e-4072-8ce3-53241252f2b5",
   "metadata": {
    "execution": {
     "iopub.execute_input": "2023-12-04T14:56:50.736187Z",
     "iopub.status.busy": "2023-12-04T14:56:50.736012Z",
     "iopub.status.idle": "2023-12-04T14:57:02.043470Z",
     "shell.execute_reply": "2023-12-04T14:57:02.042702Z",
     "shell.execute_reply.started": "2023-12-04T14:56:50.736162Z"
    },
    "tags": []
   },
   "outputs": [
    {
     "data": {
      "application/vnd.jupyter.widget-view+json": {
       "model_id": "cef0fc8d9e2d4fc6951de662bd21c7a8",
       "version_major": 2,
       "version_minor": 0
      },
      "text/plain": [
       "VBox()"
      ]
     },
     "metadata": {},
     "output_type": "display_data"
    },
    {
     "data": {
      "application/vnd.jupyter.widget-view+json": {
       "model_id": "",
       "version_major": 2,
       "version_minor": 0
      },
      "text/plain": [
       "FloatProgress(value=0.0, bar_style='info', description='Progress:', layout=Layout(height='25px', width='50%'),…"
      ]
     },
     "metadata": {},
     "output_type": "display_data"
    },
    {
     "name": "stdout",
     "output_type": "stream",
     "text": [
      "+--------------------+--------------------+--------+-------+--------------------+-----+--------------------+---------------+--------------------+--------------------+--------------------+--------------------+--------------------+--------------------+--------------------+--------+--------------------+-------+\n",
      "|           _metadata|         anonymousId|category|channel|             context|event|           messageId|           name|   originalTimestamp|           projectId|          properties|          receivedAt|              sentAt|           timestamp|              traits|    type|              userId|version|\n",
      "+--------------------+--------------------+--------+-------+--------------------+-----+--------------------+---------------+--------------------+--------------------+--------------------+--------------------+--------------------+--------------------+--------------------+--------+--------------------+-------+\n",
      "|{[Segment.io], []...|9d9a3a32-27f0-4af...|        | client|{{null, null, nul...| null|ajs-next-99c48690...|ArticlesArticle|2022-05-23T05:12:...|pAzAoFnKNpLfHxRmZ...|{null, null, , Ar...|2022-05-23T05:12:...|2022-05-23T05:12:...|2022-05-23T05:12:...|                null|    page|6236b1368b11ae2c3...|      2|\n",
      "|{[Segment.io], []...|bf083d50-d4e7-446...|    null| client|{null, 106.101.19...| null|ajs-next-f4e6d175...|           null|2022-05-23T05:12:...|pAzAoFnKNpLfHxRmZ...|                null|2022-05-23T05:12:...|2022-05-23T05:12:...|2022-05-23T05:12:...|{5f90f73a51203163...|identify|26923715f3ce9bff2...|      2|\n",
      "|{[Segment.io], []...|07603f5a-7164-428...|    null| client|{{null, null, nul...| null|ajs-next-6694a64b...|           null|2022-05-23T05:12:...|pAzAoFnKNpLfHxRmZ...|                null|2022-05-23T05:12:...|2022-05-23T05:12:...|2022-05-23T05:12:...|{5e563de0bfe42609...|identify|4e1351459ec8eb99a...|      2|\n",
      "|{[Segment.io], []...|07603f5a-7164-428...|    null| client|{{null, null, nul...| null|ajs-next-3cb785d8...|           null|2022-05-23T05:12:...|pAzAoFnKNpLfHxRmZ...|                null|2022-05-23T05:12:...|2022-05-23T05:12:...|2022-05-23T05:12:...|{5e563de0bfe42609...|identify|4e1351459ec8eb99a...|      2|\n",
      "|{[Segment.io], []...|478d4f77-0126-4d4...|    null| client|{null, 61.83.224....| null|ajs-next-88eb97be...|           null|2022-05-23T05:12:...|pAzAoFnKNpLfHxRmZ...|                null|2022-05-23T05:12:...|2022-05-23T05:12:...|2022-05-23T05:12:...|{5e0492d54267e105...|identify|1c93dbb79c150d0fa...|      2|\n",
      "|{[Segment.io], []...|35cfbca3-a06b-491...|    null| client|{{null, null, nul...| null|ajs-next-44c92851...|           null|2022-05-23T05:12:...|pAzAoFnKNpLfHxRmZ...|{null, null, null...|2022-05-23T05:12:...|2022-05-23T05:12:...|2022-05-23T05:12:...|                null|    page|5d07d18b0fe03e7a7...|      2|\n",
      "|{[Segment.io], []...|cc0dfb38-1854-4fd...|    null| client|{{null, null, nul...| null|ajs-next-eea90f88...|           null|2022-05-23T05:12:...|pAzAoFnKNpLfHxRmZ...|{null, null, null...|2022-05-23T05:12:...|2022-05-23T05:12:...|2022-05-23T05:12:...|                null|    page|6c4adc930dff8cbe2...|      2|\n",
      "|{[Segment.io], []...|78fdafd0-bc9a-409...|        | client|{{null, null, nul...| null|ajs-next-5d70b50a...|ArticlesArticle|2022-05-23T05:13:...|pAzAoFnKNpLfHxRmZ...|{null, null, , Ar...|2022-05-23T05:13:...|2022-05-23T05:13:...|2022-05-23T05:13:...|                null|    page|d9e37927548abe8a3...|      2|\n",
      "|{[Segment.io], []...|503b755b-1eae-46c...|    null| client|{{null, null, nul...| null|ajs-next-d846abe8...|           null|2022-05-23T05:13:...|pAzAoFnKNpLfHxRmZ...|{null, null, null...|2022-05-23T05:13:...|2022-05-23T05:13:...|2022-05-23T05:13:...|                null|    page|480118dcd321807e5...|      2|\n",
      "|{[Segment.io], []...|b4e3f2ba-a843-4c7...|    null| client|{{null, null, nul...| null|ajs-next-15dd7000...|           null|2022-05-23T05:13:...|pAzAoFnKNpLfHxRmZ...|{null, null, null...|2022-05-23T05:13:...|2022-05-23T05:13:...|2022-05-23T05:13:...|                null|    page|4fd9cb30e18e83d89...|      2|\n",
      "+--------------------+--------------------+--------+-------+--------------------+-----+--------------------+---------------+--------------------+--------------------+--------------------+--------------------+--------------------+--------------------+--------------------+--------+--------------------+-------+\n",
      "only showing top 10 rows"
     ]
    }
   ],
   "source": [
    "df.show(10)"
   ]
  },
  {
   "cell_type": "code",
   "execution_count": 5,
   "id": "30ab86c5-2d25-4506-aa33-f906341deccc",
   "metadata": {
    "execution": {
     "iopub.execute_input": "2023-12-04T14:57:02.045620Z",
     "iopub.status.busy": "2023-12-04T14:57:02.045372Z",
     "iopub.status.idle": "2023-12-04T14:57:02.297206Z",
     "shell.execute_reply": "2023-12-04T14:57:02.296592Z",
     "shell.execute_reply.started": "2023-12-04T14:57:02.045586Z"
    },
    "tags": []
   },
   "outputs": [
    {
     "data": {
      "application/vnd.jupyter.widget-view+json": {
       "model_id": "ce87b99469404486af84c47cf4038c83",
       "version_major": 2,
       "version_minor": 0
      },
      "text/plain": [
       "VBox()"
      ]
     },
     "metadata": {},
     "output_type": "display_data"
    },
    {
     "data": {
      "application/vnd.jupyter.widget-view+json": {
       "model_id": "",
       "version_major": 2,
       "version_minor": 0
      },
      "text/plain": [
       "FloatProgress(value=0.0, bar_style='info', description='Progress:', layout=Layout(height='25px', width='50%'),…"
      ]
     },
     "metadata": {},
     "output_type": "display_data"
    },
    {
     "name": "stdout",
     "output_type": "stream",
     "text": [
      "root\n",
      " |-- _metadata: struct (nullable = true)\n",
      " |    |-- bundled: array (nullable = true)\n",
      " |    |    |-- element: string (containsNull = true)\n",
      " |    |-- bundledIds: array (nullable = true)\n",
      " |    |    |-- element: string (containsNull = true)\n",
      " |    |-- unbundled: array (nullable = true)\n",
      " |    |    |-- element: string (containsNull = true)\n",
      " |-- anonymousId: string (nullable = true)\n",
      " |-- category: string (nullable = true)\n",
      " |-- channel: string (nullable = true)\n",
      " |-- context: struct (nullable = true)\n",
      " |    |-- campaign: struct (nullable = true)\n",
      " |    |    |-- content: string (nullable = true)\n",
      " |    |    |-- id: string (nullable = true)\n",
      " |    |    |-- medium: string (nullable = true)\n",
      " |    |    |-- mediumKMDForest: string (nullable = true)\n",
      " |    |    |-- name: string (nullable = true)\n",
      " |    |    |-- soruce: string (nullable = true)\n",
      " |    |    |-- source: string (nullable = true)\n",
      " |    |    |-- term: string (nullable = true)\n",
      " |    |-- ip: string (nullable = true)\n",
      " |    |-- library: struct (nullable = true)\n",
      " |    |    |-- name: string (nullable = true)\n",
      " |    |    |-- version: string (nullable = true)\n",
      " |    |-- locale: string (nullable = true)\n",
      " |    |-- page: struct (nullable = true)\n",
      " |    |    |-- path: string (nullable = true)\n",
      " |    |    |-- referrer: string (nullable = true)\n",
      " |    |    |-- search: string (nullable = true)\n",
      " |    |    |-- title: string (nullable = true)\n",
      " |    |    |-- url: string (nullable = true)\n",
      " |    |-- userAgent: string (nullable = true)\n",
      " |    |-- userAgentData: struct (nullable = true)\n",
      " |    |    |-- brands: array (nullable = true)\n",
      " |    |    |    |-- element: struct (containsNull = true)\n",
      " |    |    |    |    |-- brand: string (nullable = true)\n",
      " |    |    |    |    |-- version: string (nullable = true)\n",
      " |    |    |-- mobile: boolean (nullable = true)\n",
      " |    |    |-- platform: string (nullable = true)\n",
      " |-- event: string (nullable = true)\n",
      " |-- messageId: string (nullable = true)\n",
      " |-- name: string (nullable = true)\n",
      " |-- originalTimestamp: string (nullable = true)\n",
      " |-- projectId: string (nullable = true)\n",
      " |-- properties: struct (nullable = true)\n",
      " |    |-- action: struct (nullable = true)\n",
      " |    |    |-- hospital: array (nullable = true)\n",
      " |    |    |    |-- element: string (containsNull = true)\n",
      " |    |    |-- name: string (nullable = true)\n",
      " |    |-- button: struct (nullable = true)\n",
      " |    |    |-- hospital: array (nullable = true)\n",
      " |    |    |    |-- element: string (containsNull = true)\n",
      " |    |    |-- link: string (nullable = true)\n",
      " |    |    |-- name: string (nullable = true)\n",
      " |    |    |-- position: double (nullable = true)\n",
      " |    |    |-- region: array (nullable = true)\n",
      " |    |    |    |-- element: string (containsNull = true)\n",
      " |    |    |-- selected_item: string (nullable = true)\n",
      " |    |-- category: string (nullable = true)\n",
      " |    |-- name: string (nullable = true)\n",
      " |    |-- page: struct (nullable = true)\n",
      " |    |    |-- name: string (nullable = true)\n",
      " |    |-- path: string (nullable = true)\n",
      " |    |-- properties: struct (nullable = true)\n",
      " |    |    |-- hospitalId: string (nullable = true)\n",
      " |    |    |-- name: string (nullable = true)\n",
      " |    |    |-- pageName: string (nullable = true)\n",
      " |    |    |-- path: string (nullable = true)\n",
      " |    |    |-- routeName: string (nullable = true)\n",
      " |    |    |-- search: struct (nullable = true)\n",
      " |    |    |    |-- sort: string (nullable = true)\n",
      " |    |    |    |-- utm_campaign: string (nullable = true)\n",
      " |    |    |    |-- utm_content: string (nullable = true)\n",
      " |    |    |    |-- utm_medium: string (nullable = true)\n",
      " |    |    |    |-- utm_source: string (nullable = true)\n",
      " |    |    |    |-- utm_term: string (nullable = true)\n",
      " |    |    |-- to: string (nullable = true)\n",
      " |    |    |-- url: string (nullable = true)\n",
      " |    |-- referrer: string (nullable = true)\n",
      " |    |-- search: string (nullable = true)\n",
      " |    |-- title: string (nullable = true)\n",
      " |    |-- type: string (nullable = true)\n",
      " |    |-- url: string (nullable = true)\n",
      " |    |-- userId: string (nullable = true)\n",
      " |    |-- version: string (nullable = true)\n",
      " |-- receivedAt: string (nullable = true)\n",
      " |-- sentAt: string (nullable = true)\n",
      " |-- timestamp: string (nullable = true)\n",
      " |-- traits: struct (nullable = true)\n",
      " |    |-- customerId: string (nullable = true)\n",
      " |-- type: string (nullable = true)\n",
      " |-- userId: string (nullable = true)\n",
      " |-- version: long (nullable = true)"
     ]
    }
   ],
   "source": [
    "df.printSchema()"
   ]
  },
  {
   "cell_type": "code",
   "execution_count": 6,
   "id": "3318b50a-e2ad-4a16-b7ce-342e87f1a8cd",
   "metadata": {
    "execution": {
     "iopub.execute_input": "2023-12-04T14:57:02.298562Z",
     "iopub.status.busy": "2023-12-04T14:57:02.298367Z",
     "iopub.status.idle": "2023-12-04T14:57:03.570108Z",
     "shell.execute_reply": "2023-12-04T14:57:03.569377Z",
     "shell.execute_reply.started": "2023-12-04T14:57:02.298532Z"
    },
    "tags": []
   },
   "outputs": [
    {
     "data": {
      "application/vnd.jupyter.widget-view+json": {
       "model_id": "f7465e610c874c23a1487d3815f27815",
       "version_major": 2,
       "version_minor": 0
      },
      "text/plain": [
       "VBox()"
      ]
     },
     "metadata": {},
     "output_type": "display_data"
    },
    {
     "data": {
      "application/vnd.jupyter.widget-view+json": {
       "model_id": "",
       "version_major": 2,
       "version_minor": 0
      },
      "text/plain": [
       "FloatProgress(value=0.0, bar_style='info', description='Progress:', layout=Layout(height='25px', width='50%'),…"
      ]
     },
     "metadata": {},
     "output_type": "display_data"
    }
   ],
   "source": [
    "new_df = df.withColumn(\"timestamp_cov\", col(\"timestamp\").cast(\"timestamp\"))\\\n",
    "            .withColumn(\"utc_timestamp\", to_utc_timestamp(col(\"timestamp_cov\"), 'UTC'))\\\n",
    "            .withColumn(\"kst_timestamp\", from_utc_timestamp(col(\"utc_timestamp\"), 'Asia/Seoul'))\\\n",
    "            .withColumn(\"add_kst_timestamp\", F.date_add(col(\"kst_timestamp\"), 1))\\\n",
    "            .withColumn(\"ywd\", F.date_sub(col(\"kst_timestamp\"), 1))\\\n",
    "            .withColumn(\"yw\", concat(year(col(\"add_kst_timestamp\")), lit(\"-\"), weekofyear(col(\"add_kst_timestamp\")).cast(\"string\")))\\\n",
    "            .withColumn(\"ym\", date_format(col(\"timestamp\"), \"yyyy-MM\").cast(\"string\")).withColumn(\"ymd\", date_format(col(\"timestamp\"), \"yyyy-MM-dd\").cast(\"string\"))"
   ]
  },
  {
   "cell_type": "code",
   "execution_count": 7,
   "id": "9d8ee15c-8f06-4e03-a5da-d10ab68a9db4",
   "metadata": {
    "execution": {
     "iopub.execute_input": "2023-12-04T14:57:03.571479Z",
     "iopub.status.busy": "2023-12-04T14:57:03.571225Z",
     "iopub.status.idle": "2023-12-04T14:57:10.861174Z",
     "shell.execute_reply": "2023-12-04T14:57:10.860396Z",
     "shell.execute_reply.started": "2023-12-04T14:57:03.571445Z"
    },
    "tags": []
   },
   "outputs": [
    {
     "data": {
      "application/vnd.jupyter.widget-view+json": {
       "model_id": "bd6e9fb8b6ea40b48d676bcda3855403",
       "version_major": 2,
       "version_minor": 0
      },
      "text/plain": [
       "VBox()"
      ]
     },
     "metadata": {},
     "output_type": "display_data"
    },
    {
     "data": {
      "application/vnd.jupyter.widget-view+json": {
       "model_id": "",
       "version_major": 2,
       "version_minor": 0
      },
      "text/plain": [
       "FloatProgress(value=0.0, bar_style='info', description='Progress:', layout=Layout(height='25px', width='50%'),…"
      ]
     },
     "metadata": {},
     "output_type": "display_data"
    },
    {
     "name": "stdout",
     "output_type": "stream",
     "text": [
      "+--------------------+--------------------+--------+-------+--------------------+-----+--------------------+---------------+--------------------+--------------------+--------------------+--------------------+--------------------+--------------------+--------------------+--------+--------------------+-------+--------------------+--------------------+--------------------+-----------------+----------+-------+-------+----------+\n",
      "|           _metadata|         anonymousId|category|channel|             context|event|           messageId|           name|   originalTimestamp|           projectId|          properties|          receivedAt|              sentAt|           timestamp|              traits|    type|              userId|version|       timestamp_cov|       utc_timestamp|       kst_timestamp|add_kst_timestamp|       ywd|     yw|     ym|       ymd|\n",
      "+--------------------+--------------------+--------+-------+--------------------+-----+--------------------+---------------+--------------------+--------------------+--------------------+--------------------+--------------------+--------------------+--------------------+--------+--------------------+-------+--------------------+--------------------+--------------------+-----------------+----------+-------+-------+----------+\n",
      "|{[Segment.io], []...|9d9a3a32-27f0-4af...|        | client|{{null, null, nul...| null|ajs-next-99c48690...|ArticlesArticle|2022-05-23T05:12:...|pAzAoFnKNpLfHxRmZ...|{null, null, , Ar...|2022-05-23T05:12:...|2022-05-23T05:12:...|2022-05-23T05:12:...|                null|    page|6236b1368b11ae2c3...|      2|2022-05-23 05:12:...|2022-05-23 05:12:...|2022-05-23 14:12:...|       2022-05-24|2022-05-22|2022-21|2022-05|2022-05-23|\n",
      "|{[Segment.io], []...|bf083d50-d4e7-446...|    null| client|{null, 106.101.19...| null|ajs-next-f4e6d175...|           null|2022-05-23T05:12:...|pAzAoFnKNpLfHxRmZ...|                null|2022-05-23T05:12:...|2022-05-23T05:12:...|2022-05-23T05:12:...|{5f90f73a51203163...|identify|26923715f3ce9bff2...|      2|2022-05-23 05:12:...|2022-05-23 05:12:...|2022-05-23 14:12:...|       2022-05-24|2022-05-22|2022-21|2022-05|2022-05-23|\n",
      "|{[Segment.io], []...|07603f5a-7164-428...|    null| client|{{null, null, nul...| null|ajs-next-6694a64b...|           null|2022-05-23T05:12:...|pAzAoFnKNpLfHxRmZ...|                null|2022-05-23T05:12:...|2022-05-23T05:12:...|2022-05-23T05:12:...|{5e563de0bfe42609...|identify|4e1351459ec8eb99a...|      2|2022-05-23 05:12:...|2022-05-23 05:12:...|2022-05-23 14:12:...|       2022-05-24|2022-05-22|2022-21|2022-05|2022-05-23|\n",
      "|{[Segment.io], []...|07603f5a-7164-428...|    null| client|{{null, null, nul...| null|ajs-next-3cb785d8...|           null|2022-05-23T05:12:...|pAzAoFnKNpLfHxRmZ...|                null|2022-05-23T05:12:...|2022-05-23T05:12:...|2022-05-23T05:12:...|{5e563de0bfe42609...|identify|4e1351459ec8eb99a...|      2|2022-05-23 05:12:...|2022-05-23 05:12:...|2022-05-23 14:12:...|       2022-05-24|2022-05-22|2022-21|2022-05|2022-05-23|\n",
      "|{[Segment.io], []...|478d4f77-0126-4d4...|    null| client|{null, 61.83.224....| null|ajs-next-88eb97be...|           null|2022-05-23T05:12:...|pAzAoFnKNpLfHxRmZ...|                null|2022-05-23T05:12:...|2022-05-23T05:12:...|2022-05-23T05:12:...|{5e0492d54267e105...|identify|1c93dbb79c150d0fa...|      2|2022-05-23 05:12:...|2022-05-23 05:12:...|2022-05-23 14:12:...|       2022-05-24|2022-05-22|2022-21|2022-05|2022-05-23|\n",
      "|{[Segment.io], []...|35cfbca3-a06b-491...|    null| client|{{null, null, nul...| null|ajs-next-44c92851...|           null|2022-05-23T05:12:...|pAzAoFnKNpLfHxRmZ...|{null, null, null...|2022-05-23T05:12:...|2022-05-23T05:12:...|2022-05-23T05:12:...|                null|    page|5d07d18b0fe03e7a7...|      2|2022-05-23 05:12:...|2022-05-23 05:12:...|2022-05-23 14:12:...|       2022-05-24|2022-05-22|2022-21|2022-05|2022-05-23|\n",
      "|{[Segment.io], []...|cc0dfb38-1854-4fd...|    null| client|{{null, null, nul...| null|ajs-next-eea90f88...|           null|2022-05-23T05:12:...|pAzAoFnKNpLfHxRmZ...|{null, null, null...|2022-05-23T05:12:...|2022-05-23T05:12:...|2022-05-23T05:12:...|                null|    page|6c4adc930dff8cbe2...|      2|2022-05-23 05:12:...|2022-05-23 05:12:...|2022-05-23 14:12:...|       2022-05-24|2022-05-22|2022-21|2022-05|2022-05-23|\n",
      "|{[Segment.io], []...|78fdafd0-bc9a-409...|        | client|{{null, null, nul...| null|ajs-next-5d70b50a...|ArticlesArticle|2022-05-23T05:13:...|pAzAoFnKNpLfHxRmZ...|{null, null, , Ar...|2022-05-23T05:13:...|2022-05-23T05:13:...|2022-05-23T05:13:...|                null|    page|d9e37927548abe8a3...|      2|2022-05-23 05:13:...|2022-05-23 05:13:...|2022-05-23 14:13:...|       2022-05-24|2022-05-22|2022-21|2022-05|2022-05-23|\n",
      "|{[Segment.io], []...|503b755b-1eae-46c...|    null| client|{{null, null, nul...| null|ajs-next-d846abe8...|           null|2022-05-23T05:13:...|pAzAoFnKNpLfHxRmZ...|{null, null, null...|2022-05-23T05:13:...|2022-05-23T05:13:...|2022-05-23T05:13:...|                null|    page|480118dcd321807e5...|      2|2022-05-23 05:13:...|2022-05-23 05:13:...|2022-05-23 14:13:...|       2022-05-24|2022-05-22|2022-21|2022-05|2022-05-23|\n",
      "|{[Segment.io], []...|b4e3f2ba-a843-4c7...|    null| client|{{null, null, nul...| null|ajs-next-15dd7000...|           null|2022-05-23T05:13:...|pAzAoFnKNpLfHxRmZ...|{null, null, null...|2022-05-23T05:13:...|2022-05-23T05:13:...|2022-05-23T05:13:...|                null|    page|4fd9cb30e18e83d89...|      2|2022-05-23 05:13:...|2022-05-23 05:13:...|2022-05-23 14:13:...|       2022-05-24|2022-05-22|2022-21|2022-05|2022-05-23|\n",
      "+--------------------+--------------------+--------+-------+--------------------+-----+--------------------+---------------+--------------------+--------------------+--------------------+--------------------+--------------------+--------------------+--------------------+--------+--------------------+-------+--------------------+--------------------+--------------------+-----------------+----------+-------+-------+----------+\n",
      "only showing top 10 rows"
     ]
    }
   ],
   "source": [
    "new_df.show(10)"
   ]
  },
  {
   "cell_type": "code",
   "execution_count": 8,
   "id": "768604c7-60ec-4147-9398-7d32f645dd25",
   "metadata": {
    "execution": {
     "iopub.execute_input": "2023-12-04T14:57:10.862711Z",
     "iopub.status.busy": "2023-12-04T14:57:10.862467Z",
     "iopub.status.idle": "2023-12-04T14:57:10.922868Z",
     "shell.execute_reply": "2023-12-04T14:57:10.922259Z",
     "shell.execute_reply.started": "2023-12-04T14:57:10.862676Z"
    },
    "tags": []
   },
   "outputs": [
    {
     "data": {
      "application/vnd.jupyter.widget-view+json": {
       "model_id": "3ac7c9824e07482ba84125063123b75b",
       "version_major": 2,
       "version_minor": 0
      },
      "text/plain": [
       "VBox()"
      ]
     },
     "metadata": {},
     "output_type": "display_data"
    },
    {
     "data": {
      "application/vnd.jupyter.widget-view+json": {
       "model_id": "",
       "version_major": 2,
       "version_minor": 0
      },
      "text/plain": [
       "FloatProgress(value=0.0, bar_style='info', description='Progress:', layout=Layout(height='25px', width='50%'),…"
      ]
     },
     "metadata": {},
     "output_type": "display_data"
    },
    {
     "name": "stdout",
     "output_type": "stream",
     "text": [
      "root\n",
      " |-- _metadata: struct (nullable = true)\n",
      " |    |-- bundled: array (nullable = true)\n",
      " |    |    |-- element: string (containsNull = true)\n",
      " |    |-- bundledIds: array (nullable = true)\n",
      " |    |    |-- element: string (containsNull = true)\n",
      " |    |-- unbundled: array (nullable = true)\n",
      " |    |    |-- element: string (containsNull = true)\n",
      " |-- anonymousId: string (nullable = true)\n",
      " |-- category: string (nullable = true)\n",
      " |-- channel: string (nullable = true)\n",
      " |-- context: struct (nullable = true)\n",
      " |    |-- campaign: struct (nullable = true)\n",
      " |    |    |-- content: string (nullable = true)\n",
      " |    |    |-- id: string (nullable = true)\n",
      " |    |    |-- medium: string (nullable = true)\n",
      " |    |    |-- mediumKMDForest: string (nullable = true)\n",
      " |    |    |-- name: string (nullable = true)\n",
      " |    |    |-- soruce: string (nullable = true)\n",
      " |    |    |-- source: string (nullable = true)\n",
      " |    |    |-- term: string (nullable = true)\n",
      " |    |-- ip: string (nullable = true)\n",
      " |    |-- library: struct (nullable = true)\n",
      " |    |    |-- name: string (nullable = true)\n",
      " |    |    |-- version: string (nullable = true)\n",
      " |    |-- locale: string (nullable = true)\n",
      " |    |-- page: struct (nullable = true)\n",
      " |    |    |-- path: string (nullable = true)\n",
      " |    |    |-- referrer: string (nullable = true)\n",
      " |    |    |-- search: string (nullable = true)\n",
      " |    |    |-- title: string (nullable = true)\n",
      " |    |    |-- url: string (nullable = true)\n",
      " |    |-- userAgent: string (nullable = true)\n",
      " |    |-- userAgentData: struct (nullable = true)\n",
      " |    |    |-- brands: array (nullable = true)\n",
      " |    |    |    |-- element: struct (containsNull = true)\n",
      " |    |    |    |    |-- brand: string (nullable = true)\n",
      " |    |    |    |    |-- version: string (nullable = true)\n",
      " |    |    |-- mobile: boolean (nullable = true)\n",
      " |    |    |-- platform: string (nullable = true)\n",
      " |-- event: string (nullable = true)\n",
      " |-- messageId: string (nullable = true)\n",
      " |-- name: string (nullable = true)\n",
      " |-- originalTimestamp: string (nullable = true)\n",
      " |-- projectId: string (nullable = true)\n",
      " |-- properties: struct (nullable = true)\n",
      " |    |-- action: struct (nullable = true)\n",
      " |    |    |-- hospital: array (nullable = true)\n",
      " |    |    |    |-- element: string (containsNull = true)\n",
      " |    |    |-- name: string (nullable = true)\n",
      " |    |-- button: struct (nullable = true)\n",
      " |    |    |-- hospital: array (nullable = true)\n",
      " |    |    |    |-- element: string (containsNull = true)\n",
      " |    |    |-- link: string (nullable = true)\n",
      " |    |    |-- name: string (nullable = true)\n",
      " |    |    |-- position: double (nullable = true)\n",
      " |    |    |-- region: array (nullable = true)\n",
      " |    |    |    |-- element: string (containsNull = true)\n",
      " |    |    |-- selected_item: string (nullable = true)\n",
      " |    |-- category: string (nullable = true)\n",
      " |    |-- name: string (nullable = true)\n",
      " |    |-- page: struct (nullable = true)\n",
      " |    |    |-- name: string (nullable = true)\n",
      " |    |-- path: string (nullable = true)\n",
      " |    |-- properties: struct (nullable = true)\n",
      " |    |    |-- hospitalId: string (nullable = true)\n",
      " |    |    |-- name: string (nullable = true)\n",
      " |    |    |-- pageName: string (nullable = true)\n",
      " |    |    |-- path: string (nullable = true)\n",
      " |    |    |-- routeName: string (nullable = true)\n",
      " |    |    |-- search: struct (nullable = true)\n",
      " |    |    |    |-- sort: string (nullable = true)\n",
      " |    |    |    |-- utm_campaign: string (nullable = true)\n",
      " |    |    |    |-- utm_content: string (nullable = true)\n",
      " |    |    |    |-- utm_medium: string (nullable = true)\n",
      " |    |    |    |-- utm_source: string (nullable = true)\n",
      " |    |    |    |-- utm_term: string (nullable = true)\n",
      " |    |    |-- to: string (nullable = true)\n",
      " |    |    |-- url: string (nullable = true)\n",
      " |    |-- referrer: string (nullable = true)\n",
      " |    |-- search: string (nullable = true)\n",
      " |    |-- title: string (nullable = true)\n",
      " |    |-- type: string (nullable = true)\n",
      " |    |-- url: string (nullable = true)\n",
      " |    |-- userId: string (nullable = true)\n",
      " |    |-- version: string (nullable = true)\n",
      " |-- receivedAt: string (nullable = true)\n",
      " |-- sentAt: string (nullable = true)\n",
      " |-- timestamp: string (nullable = true)\n",
      " |-- traits: struct (nullable = true)\n",
      " |    |-- customerId: string (nullable = true)\n",
      " |-- type: string (nullable = true)\n",
      " |-- userId: string (nullable = true)\n",
      " |-- version: long (nullable = true)\n",
      " |-- timestamp_cov: timestamp (nullable = true)\n",
      " |-- utc_timestamp: timestamp (nullable = true)\n",
      " |-- kst_timestamp: timestamp (nullable = true)\n",
      " |-- add_kst_timestamp: date (nullable = true)\n",
      " |-- ywd: date (nullable = true)\n",
      " |-- yw: string (nullable = true)\n",
      " |-- ym: string (nullable = true)\n",
      " |-- ymd: string (nullable = true)"
     ]
    }
   ],
   "source": [
    "new_df.printSchema()"
   ]
  },
  {
   "cell_type": "code",
   "execution_count": 29,
   "id": "89912da0-8c78-4d15-bfd0-e1a37fc7e759",
   "metadata": {
    "execution": {
     "iopub.execute_input": "2023-12-04T17:00:58.996100Z",
     "iopub.status.busy": "2023-12-04T17:00:58.995880Z",
     "iopub.status.idle": "2023-12-04T17:00:59.245200Z",
     "shell.execute_reply": "2023-12-04T17:00:59.244493Z",
     "shell.execute_reply.started": "2023-12-04T17:00:58.996076Z"
    },
    "tags": []
   },
   "outputs": [
    {
     "data": {
      "application/vnd.jupyter.widget-view+json": {
       "model_id": "47ab8542b9fa40478d53a545a9ff8a3e",
       "version_major": 2,
       "version_minor": 0
      },
      "text/plain": [
       "VBox()"
      ]
     },
     "metadata": {},
     "output_type": "display_data"
    },
    {
     "data": {
      "application/vnd.jupyter.widget-view+json": {
       "model_id": "",
       "version_major": 2,
       "version_minor": 0
      },
      "text/plain": [
       "FloatProgress(value=0.0, bar_style='info', description='Progress:', layout=Layout(height='25px', width='50%'),…"
      ]
     },
     "metadata": {},
     "output_type": "display_data"
    }
   ],
   "source": [
    "cov_new_df = new_df.selectExpr(\"anonymousid\",\n",
    "                               \"context.userAgent AS context_useragent\",\n",
    "                               \"context.ip AS context_ip\",\n",
    "                               \"context.locale AS context_locale\",\n",
    "                               \"context.page.url AS context_page_url\",\n",
    "                               \"context\",\n",
    "                               \"messageid\",\n",
    "                               \"properties.path AS properties_path\",\n",
    "                               \"properties.page AS properties_page\",\n",
    "                               \"properties.button.name AS properties_button_name\",\n",
    "                               \"properties.action.name AS properties_action_name\",\n",
    "                               \"properties.action.hospital[0] AS properties_action_hospital_id\",\n",
    "                               \"properties.action.hospital[1] AS properties_action_hospital_name\",\n",
    "                               \"properties.button.hospital[0] AS properties_button_hospital_num\",\n",
    "                               \"properties.button.hospital[1] AS properties_button_hospital_name\",\n",
    "                               \"properties.properties.hospitalid AS properties_properties_hospitalid\", \n",
    "                               \"properties.properties.pagename AS properties_properties_pagename\",\n",
    "                               \"properties.properties.routename AS properties_properties_routename\",\n",
    "                               \"properties.properties.to AS properties_properties_to\",\n",
    "                               \"properties\",\n",
    "                               \"event\",\n",
    "                               \"kst_timestamp AS timestamp\",\n",
    "                               \"yw\",\n",
    "                               \"ywd\",\n",
    "                               \"ym\",\n",
    "                               \"ymd\",\n",
    "                               \"type\",\n",
    "                               \"userId\"\n",
    "                              )\n",
    "\n",
    "## 문제 -> 만약 컬럼이 조회되지 않는다면 작동이 안됨"
   ]
  },
  {
   "cell_type": "code",
   "execution_count": 30,
   "id": "0091f029-6e5b-4f65-877f-e4405af46dba",
   "metadata": {
    "execution": {
     "iopub.execute_input": "2023-12-04T17:01:04.639896Z",
     "iopub.status.busy": "2023-12-04T17:01:04.639627Z",
     "iopub.status.idle": "2023-12-04T17:01:04.698870Z",
     "shell.execute_reply": "2023-12-04T17:01:04.697975Z",
     "shell.execute_reply.started": "2023-12-04T17:01:04.639869Z"
    },
    "tags": []
   },
   "outputs": [
    {
     "data": {
      "application/vnd.jupyter.widget-view+json": {
       "model_id": "431eb760462f4420bb22113ffa48de97",
       "version_major": 2,
       "version_minor": 0
      },
      "text/plain": [
       "VBox()"
      ]
     },
     "metadata": {},
     "output_type": "display_data"
    },
    {
     "data": {
      "application/vnd.jupyter.widget-view+json": {
       "model_id": "",
       "version_major": 2,
       "version_minor": 0
      },
      "text/plain": [
       "FloatProgress(value=0.0, bar_style='info', description='Progress:', layout=Layout(height='25px', width='50%'),…"
      ]
     },
     "metadata": {},
     "output_type": "display_data"
    },
    {
     "name": "stdout",
     "output_type": "stream",
     "text": [
      "root\n",
      " |-- anonymousid: string (nullable = true)\n",
      " |-- context_useragent: string (nullable = true)\n",
      " |-- context_ip: string (nullable = true)\n",
      " |-- context_locale: string (nullable = true)\n",
      " |-- context_page_url: string (nullable = true)\n",
      " |-- context: struct (nullable = true)\n",
      " |    |-- campaign: struct (nullable = true)\n",
      " |    |    |-- content: string (nullable = true)\n",
      " |    |    |-- id: string (nullable = true)\n",
      " |    |    |-- medium: string (nullable = true)\n",
      " |    |    |-- mediumKMDForest: string (nullable = true)\n",
      " |    |    |-- name: string (nullable = true)\n",
      " |    |    |-- soruce: string (nullable = true)\n",
      " |    |    |-- source: string (nullable = true)\n",
      " |    |    |-- term: string (nullable = true)\n",
      " |    |-- ip: string (nullable = true)\n",
      " |    |-- library: struct (nullable = true)\n",
      " |    |    |-- name: string (nullable = true)\n",
      " |    |    |-- version: string (nullable = true)\n",
      " |    |-- locale: string (nullable = true)\n",
      " |    |-- page: struct (nullable = true)\n",
      " |    |    |-- path: string (nullable = true)\n",
      " |    |    |-- referrer: string (nullable = true)\n",
      " |    |    |-- search: string (nullable = true)\n",
      " |    |    |-- title: string (nullable = true)\n",
      " |    |    |-- url: string (nullable = true)\n",
      " |    |-- userAgent: string (nullable = true)\n",
      " |    |-- userAgentData: struct (nullable = true)\n",
      " |    |    |-- brands: array (nullable = true)\n",
      " |    |    |    |-- element: struct (containsNull = true)\n",
      " |    |    |    |    |-- brand: string (nullable = true)\n",
      " |    |    |    |    |-- version: string (nullable = true)\n",
      " |    |    |-- mobile: boolean (nullable = true)\n",
      " |    |    |-- platform: string (nullable = true)\n",
      " |-- messageid: string (nullable = true)\n",
      " |-- properties_path: string (nullable = true)\n",
      " |-- properties_page: struct (nullable = true)\n",
      " |    |-- name: string (nullable = true)\n",
      " |-- properties_button_name: string (nullable = true)\n",
      " |-- properties_action_name: string (nullable = true)\n",
      " |-- properties_action_hospital_id: string (nullable = true)\n",
      " |-- properties_action_hospital_name: string (nullable = true)\n",
      " |-- properties_button_hospital_num: string (nullable = true)\n",
      " |-- properties_button_hospital_name: string (nullable = true)\n",
      " |-- properties_properties_hospitalid: string (nullable = true)\n",
      " |-- properties_properties_pagename: string (nullable = true)\n",
      " |-- properties_properties_routename: string (nullable = true)\n",
      " |-- properties_properties_to: string (nullable = true)\n",
      " |-- properties: struct (nullable = true)\n",
      " |    |-- action: struct (nullable = true)\n",
      " |    |    |-- hospital: array (nullable = true)\n",
      " |    |    |    |-- element: string (containsNull = true)\n",
      " |    |    |-- name: string (nullable = true)\n",
      " |    |-- button: struct (nullable = true)\n",
      " |    |    |-- hospital: array (nullable = true)\n",
      " |    |    |    |-- element: string (containsNull = true)\n",
      " |    |    |-- link: string (nullable = true)\n",
      " |    |    |-- name: string (nullable = true)\n",
      " |    |    |-- position: double (nullable = true)\n",
      " |    |    |-- region: array (nullable = true)\n",
      " |    |    |    |-- element: string (containsNull = true)\n",
      " |    |    |-- selected_item: string (nullable = true)\n",
      " |    |-- category: string (nullable = true)\n",
      " |    |-- name: string (nullable = true)\n",
      " |    |-- page: struct (nullable = true)\n",
      " |    |    |-- name: string (nullable = true)\n",
      " |    |-- path: string (nullable = true)\n",
      " |    |-- properties: struct (nullable = true)\n",
      " |    |    |-- hospitalId: string (nullable = true)\n",
      " |    |    |-- name: string (nullable = true)\n",
      " |    |    |-- pageName: string (nullable = true)\n",
      " |    |    |-- path: string (nullable = true)\n",
      " |    |    |-- routeName: string (nullable = true)\n",
      " |    |    |-- search: struct (nullable = true)\n",
      " |    |    |    |-- sort: string (nullable = true)\n",
      " |    |    |    |-- utm_campaign: string (nullable = true)\n",
      " |    |    |    |-- utm_content: string (nullable = true)\n",
      " |    |    |    |-- utm_medium: string (nullable = true)\n",
      " |    |    |    |-- utm_source: string (nullable = true)\n",
      " |    |    |    |-- utm_term: string (nullable = true)\n",
      " |    |    |-- to: string (nullable = true)\n",
      " |    |    |-- url: string (nullable = true)\n",
      " |    |-- referrer: string (nullable = true)\n",
      " |    |-- search: string (nullable = true)\n",
      " |    |-- title: string (nullable = true)\n",
      " |    |-- type: string (nullable = true)\n",
      " |    |-- url: string (nullable = true)\n",
      " |    |-- userId: string (nullable = true)\n",
      " |    |-- version: string (nullable = true)\n",
      " |-- event: string (nullable = true)\n",
      " |-- timestamp: timestamp (nullable = true)\n",
      " |-- yw: string (nullable = true)\n",
      " |-- ywd: date (nullable = true)\n",
      " |-- ym: string (nullable = true)\n",
      " |-- ymd: string (nullable = true)\n",
      " |-- type: string (nullable = true)\n",
      " |-- userId: string (nullable = true)"
     ]
    }
   ],
   "source": [
    "cov_new_df.printSchema()"
   ]
  },
  {
   "cell_type": "code",
   "execution_count": 31,
   "id": "27339a31-4586-41dc-a4ad-b8ae7b8bb5b5",
   "metadata": {
    "execution": {
     "iopub.execute_input": "2023-12-04T17:01:26.329379Z",
     "iopub.status.busy": "2023-12-04T17:01:26.329160Z",
     "iopub.status.idle": "2023-12-04T17:01:26.577899Z",
     "shell.execute_reply": "2023-12-04T17:01:26.577198Z",
     "shell.execute_reply.started": "2023-12-04T17:01:26.329355Z"
    },
    "tags": []
   },
   "outputs": [
    {
     "data": {
      "application/vnd.jupyter.widget-view+json": {
       "model_id": "c8ada1db09e94e269121fc227f5d58cf",
       "version_major": 2,
       "version_minor": 0
      },
      "text/plain": [
       "VBox()"
      ]
     },
     "metadata": {},
     "output_type": "display_data"
    },
    {
     "data": {
      "application/vnd.jupyter.widget-view+json": {
       "model_id": "",
       "version_major": 2,
       "version_minor": 0
      },
      "text/plain": [
       "FloatProgress(value=0.0, bar_style='info', description='Progress:', layout=Layout(height='25px', width='50%'),…"
      ]
     },
     "metadata": {},
     "output_type": "display_data"
    }
   ],
   "source": [
    "# Define the window\n",
    "window = Window.partitionBy(cov_new_df.anonymousid).orderBy(cov_new_df.timestamp)"
   ]
  },
  {
   "cell_type": "code",
   "execution_count": 32,
   "id": "fd749f14-63d5-4466-9773-1baecf4e683b",
   "metadata": {
    "execution": {
     "iopub.execute_input": "2023-12-04T17:01:26.884655Z",
     "iopub.status.busy": "2023-12-04T17:01:26.884433Z",
     "iopub.status.idle": "2023-12-04T17:01:27.142655Z",
     "shell.execute_reply": "2023-12-04T17:01:27.141979Z",
     "shell.execute_reply.started": "2023-12-04T17:01:26.884632Z"
    },
    "tags": []
   },
   "outputs": [
    {
     "data": {
      "application/vnd.jupyter.widget-view+json": {
       "model_id": "a8d77a1274524d5ea2bd50af2322cbf4",
       "version_major": 2,
       "version_minor": 0
      },
      "text/plain": [
       "VBox()"
      ]
     },
     "metadata": {},
     "output_type": "display_data"
    },
    {
     "data": {
      "application/vnd.jupyter.widget-view+json": {
       "model_id": "",
       "version_major": 2,
       "version_minor": 0
      },
      "text/plain": [
       "FloatProgress(value=0.0, bar_style='info', description='Progress:', layout=Layout(height='25px', width='50%'),…"
      ]
     },
     "metadata": {},
     "output_type": "display_data"
    }
   ],
   "source": [
    "# Add a column for inactivity time\n",
    "cov_new_df = cov_new_df.withColumn(\"inactivity_time\", \n",
    "                   (F.unix_timestamp(cov_new_df.timestamp) - F.lag(F.unix_timestamp(cov_new_df.timestamp)).over(window))/60)"
   ]
  },
  {
   "cell_type": "code",
   "execution_count": 33,
   "id": "a9c0915f-56ed-4384-9a2a-bef69c6480e2",
   "metadata": {
    "execution": {
     "iopub.execute_input": "2023-12-04T17:01:27.906562Z",
     "iopub.status.busy": "2023-12-04T17:01:27.906333Z",
     "iopub.status.idle": "2023-12-04T17:01:28.156785Z",
     "shell.execute_reply": "2023-12-04T17:01:28.156146Z",
     "shell.execute_reply.started": "2023-12-04T17:01:27.906538Z"
    },
    "tags": []
   },
   "outputs": [
    {
     "data": {
      "application/vnd.jupyter.widget-view+json": {
       "model_id": "6085beb55e654dab9fa5489cf69c4b29",
       "version_major": 2,
       "version_minor": 0
      },
      "text/plain": [
       "VBox()"
      ]
     },
     "metadata": {},
     "output_type": "display_data"
    },
    {
     "data": {
      "application/vnd.jupyter.widget-view+json": {
       "model_id": "",
       "version_major": 2,
       "version_minor": 0
      },
      "text/plain": [
       "FloatProgress(value=0.0, bar_style='info', description='Progress:', layout=Layout(height='25px', width='50%'),…"
      ]
     },
     "metadata": {},
     "output_type": "display_data"
    }
   ],
   "source": [
    "# Filter for inactivity time greater than 30 minutes or null\n",
    "cov_new_df = cov_new_df.filter((cov_new_df.inactivity_time > 30) | cov_new_df.inactivity_time.isNull())"
   ]
  },
  {
   "cell_type": "code",
   "execution_count": 34,
   "id": "9c2a6b0d-254b-42a8-9732-082ea1525c04",
   "metadata": {
    "execution": {
     "iopub.execute_input": "2023-12-04T17:01:28.192743Z",
     "iopub.status.busy": "2023-12-04T17:01:28.192536Z",
     "iopub.status.idle": "2023-12-04T17:01:28.439885Z",
     "shell.execute_reply": "2023-12-04T17:01:28.439097Z",
     "shell.execute_reply.started": "2023-12-04T17:01:28.192717Z"
    },
    "tags": []
   },
   "outputs": [
    {
     "data": {
      "application/vnd.jupyter.widget-view+json": {
       "model_id": "21db4b04a00c458294b9b08f96c58418",
       "version_major": 2,
       "version_minor": 0
      },
      "text/plain": [
       "VBox()"
      ]
     },
     "metadata": {},
     "output_type": "display_data"
    },
    {
     "data": {
      "application/vnd.jupyter.widget-view+json": {
       "model_id": "",
       "version_major": 2,
       "version_minor": 0
      },
      "text/plain": [
       "FloatProgress(value=0.0, bar_style='info', description='Progress:', layout=Layout(height='25px', width='50%'),…"
      ]
     },
     "metadata": {},
     "output_type": "display_data"
    }
   ],
   "source": [
    "# Add session_id column\n",
    "cov_new_df = cov_new_df.withColumn(\"session_id\", F.concat(cov_new_df.anonymousid, F.lit('-'), \n",
    "                                          F.row_number().over(window)))"
   ]
  },
  {
   "cell_type": "code",
   "execution_count": 35,
   "id": "a9c7d2b1-19fb-490f-853e-fd2b559de6e8",
   "metadata": {
    "execution": {
     "iopub.execute_input": "2023-12-04T17:01:29.812429Z",
     "iopub.status.busy": "2023-12-04T17:01:29.812179Z",
     "iopub.status.idle": "2023-12-04T17:01:30.073995Z",
     "shell.execute_reply": "2023-12-04T17:01:30.073328Z",
     "shell.execute_reply.started": "2023-12-04T17:01:29.812403Z"
    },
    "tags": []
   },
   "outputs": [
    {
     "data": {
      "application/vnd.jupyter.widget-view+json": {
       "model_id": "3fb2514b80634b8498ba957b7da469c6",
       "version_major": 2,
       "version_minor": 0
      },
      "text/plain": [
       "VBox()"
      ]
     },
     "metadata": {},
     "output_type": "display_data"
    },
    {
     "data": {
      "application/vnd.jupyter.widget-view+json": {
       "model_id": "",
       "version_major": 2,
       "version_minor": 0
      },
      "text/plain": [
       "FloatProgress(value=0.0, bar_style='info', description='Progress:', layout=Layout(height='25px', width='50%'),…"
      ]
     },
     "metadata": {},
     "output_type": "display_data"
    }
   ],
   "source": [
    "# Add next_session_start_at column\n",
    "cov_new_df = cov_new_df.withColumn(\"next_session_start_at\", \n",
    "                   F.lead(cov_new_df.timestamp).over(window))"
   ]
  },
  {
   "cell_type": "code",
   "execution_count": 36,
   "id": "4ebf3caf-bf03-4e43-a40a-ccb35c6da167",
   "metadata": {
    "execution": {
     "iopub.execute_input": "2023-12-04T17:01:30.409883Z",
     "iopub.status.busy": "2023-12-04T17:01:30.409657Z",
     "iopub.status.idle": "2023-12-04T17:01:30.663931Z",
     "shell.execute_reply": "2023-12-04T17:01:30.663227Z",
     "shell.execute_reply.started": "2023-12-04T17:01:30.409859Z"
    },
    "tags": []
   },
   "outputs": [
    {
     "data": {
      "application/vnd.jupyter.widget-view+json": {
       "model_id": "2d2daed5f5884764846e73323d79c9ff",
       "version_major": 2,
       "version_minor": 0
      },
      "text/plain": [
       "VBox()"
      ]
     },
     "metadata": {},
     "output_type": "display_data"
    },
    {
     "data": {
      "application/vnd.jupyter.widget-view+json": {
       "model_id": "",
       "version_major": 2,
       "version_minor": 0
      },
      "text/plain": [
       "FloatProgress(value=0.0, bar_style='info', description='Progress:', layout=Layout(height='25px', width='50%'),…"
      ]
     },
     "metadata": {},
     "output_type": "display_data"
    }
   ],
   "source": [
    "# Drop the inactivity_time column\n",
    "cov_new_df = cov_new_df.drop(\"inactivity_time\")"
   ]
  },
  {
   "cell_type": "code",
   "execution_count": null,
   "id": "5842c60d-68dd-422f-9029-730f226c370e",
   "metadata": {},
   "outputs": [
    {
     "data": {
      "application/vnd.jupyter.widget-view+json": {
       "model_id": "d5ccf0d5817e40e1bf559b767ce406fe",
       "version_major": 2,
       "version_minor": 0
      },
      "text/plain": [
       "VBox()"
      ]
     },
     "metadata": {},
     "output_type": "display_data"
    },
    {
     "data": {
      "application/vnd.jupyter.widget-view+json": {
       "model_id": "",
       "version_major": 2,
       "version_minor": 0
      },
      "text/plain": [
       "FloatProgress(value=0.0, bar_style='info', description='Progress:', layout=Layout(height='25px', width='50%'),…"
      ]
     },
     "metadata": {},
     "output_type": "display_data"
    },
    {
     "name": "stdout",
     "output_type": "stream",
     "text": [
      "root\n",
      " |-- anonymousid: string (nullable = true)\n",
      " |-- context_useragent: string (nullable = true)\n",
      " |-- context_ip: string (nullable = true)\n",
      " |-- context_locale: string (nullable = true)\n",
      " |-- context_page_url: string (nullable = true)\n",
      " |-- context: struct (nullable = true)\n",
      " |    |-- campaign: struct (nullable = true)\n",
      " |    |    |-- content: string (nullable = true)\n",
      " |    |    |-- id: string (nullable = true)\n",
      " |    |    |-- medium: string (nullable = true)\n",
      " |    |    |-- mediumKMDForest: string (nullable = true)\n",
      " |    |    |-- name: string (nullable = true)\n",
      " |    |    |-- soruce: string (nullable = true)\n",
      " |    |    |-- source: string (nullable = true)\n",
      " |    |    |-- term: string (nullable = true)\n",
      " |    |-- ip: string (nullable = true)\n",
      " |    |-- library: struct (nullable = true)\n",
      " |    |    |-- name: string (nullable = true)\n",
      " |    |    |-- version: string (nullable = true)\n",
      " |    |-- locale: string (nullable = true)\n",
      " |    |-- page: struct (nullable = true)\n",
      " |    |    |-- path: string (nullable = true)\n",
      " |    |    |-- referrer: string (nullable = true)\n",
      " |    |    |-- search: string (nullable = true)\n",
      " |    |    |-- title: string (nullable = true)\n",
      " |    |    |-- url: string (nullable = true)\n",
      " |    |-- userAgent: string (nullable = true)\n",
      " |    |-- userAgentData: struct (nullable = true)\n",
      " |    |    |-- brands: array (nullable = true)\n",
      " |    |    |    |-- element: struct (containsNull = true)\n",
      " |    |    |    |    |-- brand: string (nullable = true)\n",
      " |    |    |    |    |-- version: string (nullable = true)\n",
      " |    |    |-- mobile: boolean (nullable = true)\n",
      " |    |    |-- platform: string (nullable = true)\n",
      " |-- messageid: string (nullable = true)\n",
      " |-- properties_path: string (nullable = true)\n",
      " |-- properties_page: struct (nullable = true)\n",
      " |    |-- name: string (nullable = true)\n",
      " |-- properties_button_name: string (nullable = true)\n",
      " |-- properties_action_name: string (nullable = true)\n",
      " |-- properties_action_hospital_id: string (nullable = true)\n",
      " |-- properties_action_hospital_name: string (nullable = true)\n",
      " |-- properties_button_hospital_num: string (nullable = true)\n",
      " |-- properties_button_hospital_name: string (nullable = true)\n",
      " |-- properties_properties_hospitalid: string (nullable = true)\n",
      " |-- properties_properties_pagename: string (nullable = true)\n",
      " |-- properties_properties_routename: string (nullable = true)\n",
      " |-- properties_properties_to: string (nullable = true)\n",
      " |-- properties: struct (nullable = true)\n",
      " |    |-- action: struct (nullable = true)\n",
      " |    |    |-- hospital: array (nullable = true)\n",
      " |    |    |    |-- element: string (containsNull = true)\n",
      " |    |    |-- name: string (nullable = true)\n",
      " |    |-- button: struct (nullable = true)\n",
      " |    |    |-- hospital: array (nullable = true)\n",
      " |    |    |    |-- element: string (containsNull = true)\n",
      " |    |    |-- link: string (nullable = true)\n",
      " |    |    |-- name: string (nullable = true)\n",
      " |    |    |-- position: double (nullable = true)\n",
      " |    |    |-- region: array (nullable = true)\n",
      " |    |    |    |-- element: string (containsNull = true)\n",
      " |    |    |-- selected_item: string (nullable = true)\n",
      " |    |-- category: string (nullable = true)\n",
      " |    |-- name: string (nullable = true)\n",
      " |    |-- page: struct (nullable = true)\n",
      " |    |    |-- name: string (nullable = true)\n",
      " |    |-- path: string (nullable = true)\n",
      " |    |-- properties: struct (nullable = true)\n",
      " |    |    |-- hospitalId: string (nullable = true)\n",
      " |    |    |-- name: string (nullable = true)\n",
      " |    |    |-- pageName: string (nullable = true)\n",
      " |    |    |-- path: string (nullable = true)\n",
      " |    |    |-- routeName: string (nullable = true)\n",
      " |    |    |-- search: struct (nullable = true)\n",
      " |    |    |    |-- sort: string (nullable = true)\n",
      " |    |    |    |-- utm_campaign: string (nullable = true)\n",
      " |    |    |    |-- utm_content: string (nullable = true)\n",
      " |    |    |    |-- utm_medium: string (nullable = true)\n",
      " |    |    |    |-- utm_source: string (nullable = true)\n",
      " |    |    |    |-- utm_term: string (nullable = true)\n",
      " |    |    |-- to: string (nullable = true)\n",
      " |    |    |-- url: string (nullable = true)\n",
      " |    |-- referrer: string (nullable = true)\n",
      " |    |-- search: string (nullable = true)\n",
      " |    |-- title: string (nullable = true)\n",
      " |    |-- type: string (nullable = true)\n",
      " |    |-- url: string (nullable = true)\n",
      " |    |-- userId: string (nullable = true)\n",
      " |    |-- version: string (nullable = true)\n",
      " |-- event: string (nullable = true)\n",
      " |-- timestamp: timestamp (nullable = true)\n",
      " |-- yw: string (nullable = true)\n",
      " |-- ywd: date (nullable = true)\n",
      " |-- ym: string (nullable = true)\n",
      " |-- ymd: string (nullable = true)\n",
      " |-- type: string (nullable = true)\n",
      " |-- userId: string (nullable = true)\n",
      " |-- session_id: string (nullable = true)\n",
      " |-- next_session_start_at: timestamp (nullable = true)"
     ]
    }
   ],
   "source": [
    "cov_new_df.printSchema()"
   ]
  },
  {
   "cell_type": "code",
   "execution_count": 38,
   "id": "0f7b19ca-3fc4-4572-bbfd-c8441240b346",
   "metadata": {
    "execution": {
     "iopub.execute_input": "2023-12-04T17:04:44.552923Z",
     "iopub.status.busy": "2023-12-04T17:04:44.552701Z",
     "iopub.status.idle": "2023-12-04T17:04:44.802341Z",
     "shell.execute_reply": "2023-12-04T17:04:44.801608Z",
     "shell.execute_reply.started": "2023-12-04T17:04:44.552898Z"
    },
    "tags": []
   },
   "outputs": [
    {
     "data": {
      "application/vnd.jupyter.widget-view+json": {
       "model_id": "011f86161180492aa596fdd958eeb044",
       "version_major": 2,
       "version_minor": 0
      },
      "text/plain": [
       "VBox()"
      ]
     },
     "metadata": {},
     "output_type": "display_data"
    },
    {
     "data": {
      "application/vnd.jupyter.widget-view+json": {
       "model_id": "",
       "version_major": 2,
       "version_minor": 0
      },
      "text/plain": [
       "FloatProgress(value=0.0, bar_style='info', description='Progress:', layout=Layout(height='25px', width='50%'),…"
      ]
     },
     "metadata": {},
     "output_type": "display_data"
    }
   ],
   "source": [
    "log_df = cov_new_df.selectExpr(\"session_id\",\n",
    "                               \"anonymousid\",\n",
    "                              \"timestamp AS session_start_at\",\n",
    "                              \"next_session_start_at\")"
   ]
  },
  {
   "cell_type": "code",
   "execution_count": 39,
   "id": "3b2d860b-c682-4a0e-9c0a-a5696cc33207",
   "metadata": {
    "execution": {
     "iopub.execute_input": "2023-12-04T17:04:47.363540Z",
     "iopub.status.busy": "2023-12-04T17:04:47.363309Z",
     "iopub.status.idle": "2023-12-04T17:20:57.181394Z",
     "shell.execute_reply": "2023-12-04T17:20:57.170225Z",
     "shell.execute_reply.started": "2023-12-04T17:04:47.363514Z"
    },
    "tags": []
   },
   "outputs": [
    {
     "data": {
      "application/vnd.jupyter.widget-view+json": {
       "model_id": "af4474f0363e4537a9de12c6f8b87060",
       "version_major": 2,
       "version_minor": 0
      },
      "text/plain": [
       "VBox()"
      ]
     },
     "metadata": {},
     "output_type": "display_data"
    },
    {
     "data": {
      "application/vnd.jupyter.widget-view+json": {
       "model_id": "",
       "version_major": 2,
       "version_minor": 0
      },
      "text/plain": [
       "FloatProgress(value=0.0, bar_style='info', description='Progress:', layout=Layout(height='25px', width='50%'),…"
      ]
     },
     "metadata": {},
     "output_type": "display_data"
    },
    {
     "name": "stdout",
     "output_type": "stream",
     "text": [
      "+--------------------+--------------------+--------------------+---------------------+\n",
      "|          session_id|         anonymousid|    session_start_at|next_session_start_at|\n",
      "+--------------------+--------------------+--------------------+---------------------+\n",
      "|0003566d-a0c0-477...|0003566d-a0c0-477...|2022-06-07 21:19:...|                 null|\n",
      "|001dd17d-9481-406...|001dd17d-9481-406...|2022-06-29 21:28:...| 2022-06-29 22:45:...|\n",
      "|001dd17d-9481-406...|001dd17d-9481-406...|2022-06-29 22:45:...| 2022-07-31 21:46:...|\n",
      "|001dd17d-9481-406...|001dd17d-9481-406...|2022-07-31 21:46:...|                 null|\n",
      "|002027ff-728d-496...|002027ff-728d-496...|2022-09-21 14:16:...| 2022-09-22 02:29:...|\n",
      "+--------------------+--------------------+--------------------+---------------------+\n",
      "only showing top 5 rows"
     ]
    }
   ],
   "source": [
    "log_df.show(5)"
   ]
  },
  {
   "cell_type": "code",
   "execution_count": 40,
   "id": "8f948a09-9b9c-4b9f-af99-49f9e1db122d",
   "metadata": {
    "execution": {
     "iopub.execute_input": "2023-12-04T17:20:57.182783Z",
     "iopub.status.busy": "2023-12-04T17:20:57.182589Z",
     "iopub.status.idle": "2023-12-04T17:20:57.232621Z",
     "shell.execute_reply": "2023-12-04T17:20:57.231898Z",
     "shell.execute_reply.started": "2023-12-04T17:20:57.182758Z"
    },
    "tags": []
   },
   "outputs": [
    {
     "data": {
      "application/vnd.jupyter.widget-view+json": {
       "model_id": "40fdf776e9424fdda3ab13dac41b1bac",
       "version_major": 2,
       "version_minor": 0
      },
      "text/plain": [
       "VBox()"
      ]
     },
     "metadata": {},
     "output_type": "display_data"
    },
    {
     "data": {
      "application/vnd.jupyter.widget-view+json": {
       "model_id": "",
       "version_major": 2,
       "version_minor": 0
      },
      "text/plain": [
       "FloatProgress(value=0.0, bar_style='info', description='Progress:', layout=Layout(height='25px', width='50%'),…"
      ]
     },
     "metadata": {},
     "output_type": "display_data"
    },
    {
     "name": "stdout",
     "output_type": "stream",
     "text": [
      "root\n",
      " |-- session_id: string (nullable = true)\n",
      " |-- anonymousid: string (nullable = true)\n",
      " |-- session_start_at: timestamp (nullable = true)\n",
      " |-- next_session_start_at: timestamp (nullable = true)"
     ]
    }
   ],
   "source": [
    "log_df.printSchema()"
   ]
  },
  {
   "cell_type": "code",
   "execution_count": null,
   "id": "1199b517-0c25-42b1-8631-82e6d865277c",
   "metadata": {},
   "outputs": [],
   "source": []
  }
 ],
 "metadata": {
  "kernelspec": {
   "display_name": "base",
   "language": "python",
   "name": "python3"
  },
  "language_info": {
   "codemirror_mode": {
    "name": "python",
    "version": 3
   },
   "file_extension": ".py",
   "mimetype": "text/x-python",
   "name": "python",
   "pygments_lexer": "python3",
   "version": "3.11.4"
  }
 },
 "nbformat": 4,
 "nbformat_minor": 5
}
