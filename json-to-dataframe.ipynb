{
 "cells": [
  {
   "cell_type": "code",
   "execution_count": null,
   "metadata": {},
   "outputs": [],
   "source": [
    "# pyspark로 작성함\n",
    "from pyspark.sql import SparkSession\n",
    "from pyspark.sql.functions import *\n",
    "from pyspark.sql import functions as F\n",
    "\n",
    "# sparksession 생성\n",
    "spark = SparkSession.builder.appName(\"loadDataToPy2Scala\").getOrCreate()"
   ]
  },
  {
   "cell_type": "code",
   "execution_count": null,
   "metadata": {},
   "outputs": [],
   "source": [
    "df = spark.read.option(\"mergeSchema\", \"true\").json(\"s3://path/to/s3/*/*\")\n",
    "df.show(10)"
   ]
  },
  {
   "cell_type": "code",
   "execution_count": null,
   "metadata": {},
   "outputs": [],
   "source": [
    "# 필요한 column을 withColumn 함수를 사용해서 추가\n",
    "\n",
    "# timestamp column의 datatype을 string에서 timestamp로 변경\n",
    "new_df = df.withColumn(\"timestamp_cov\", col(\"timestamp\").cast(\"timestamp\"))\n",
    "\n",
    "# timestamp 컬럼을 UTC로 지정\n",
    "new_df = new_df.withColumn(\"utc_timestamp\", to_utc_timestamp(col(\"timestamp_cov\"), 'UTC'))\n",
    "\n",
    "# timestamp 컬럼을 UTC에서 KTS로 변경\n",
    "new_df = new_df.withColumn(\"kst_timestamp\", from_utc_timestamp(col(\"utc_timestamp\"), 'Asia/Seoul'))\n",
    "\n",
    "# kst_timestamp 컬럼에서 1일을 더함\n",
    "new_df = new_df.withColumn(\"add_kst_timestamp\", F.date_add(col(\"kst_timestamp\"), 1))\n",
    "\n",
    "# kst_timestamp 컬럼에서 1일을 빼줌\n",
    "new_df = new_df.withColumn(\"ywd\", F.date_sub(col(\"kst_timestamp\"), 1))\n",
    "\n",
    "# add_kst_timestamp에서 datetime을 \"ISO week\"형태로 나타내줌\n",
    "new_df = new_df.withColumn(\"yw\", concat(year(col(\"add_kst_timestamp\")), lit(\"-\"), weekofyear(col(\"add_kst_timestamp\")).cast(\"string\")))\n",
    "\n",
    "# timestamp에서 datetime을 \"yyyy-MM\"형태로 나타내줌\n",
    "new_df = new_df.withColumn(\"ym\", date_format(col(\"timestamp\"), \"yyyy-MM\").cast(\"string\"))\n",
    "\n",
    "# timestamp에서 datetime을 \"yyyy-MM-dd\"형태로 나타내줌\n",
    "new_df = new_df.withColumn(\"ymd\", date_format(col(\"timestamp\"), \"yyyy-MM-dd\").cast(\"string\"))\n",
    "\n",
    "new_df.show(10)"
   ]
  },
  {
   "cell_type": "code",
   "execution_count": null,
   "metadata": {},
   "outputs": [],
   "source": [
    "new_df.printSchema()"
   ]
  },
  {
   "cell_type": "code",
   "execution_count": null,
   "metadata": {},
   "outputs": [],
   "source": [
    "# selectExpr 함수로 필요한 컬럼만 조회\n",
    "cov_new_df = new_df.selectExpr(\"schema\",\n",
    "                               \"schema.schema AS schema_schema\",\n",
    "                               \"schema.schema AS schema_schema\",\n",
    "                               \"schema.schema AS schema_schema\",\n",
    "                               \"schema.schema.schema AS schema_schema_schema\",\n",
    "                               \"schema\",\n",
    "                               \"schema.schema AS schema_schema\",\n",
    "                               \"schema.schema AS properties_page\",\n",
    "                               \"schema.schema.schema AS schema_schema_schema\",\n",
    "                               \"schema.schema.schema AS schema_schema_schema\",\n",
    "                               \"schema.schema.schema[0] AS schema_schema_schema_schema\",\n",
    "                               \"schema.schema.schema[1] AS schema_schema_schema_schema\",\n",
    "                               \"schema.schema.schema[0] AS schema_schema_schema_schema\",\n",
    "                               \"schema.schema.schema[1] AS schema_schema_schema_schema\",\n",
    "                               \"schema.schema.schema AS schema_schema_schema\", \n",
    "                               \"schema.schema.schema AS schema_schema_schema\",\n",
    "                               \"schema.schema.schema AS schema_schema_schema\",\n",
    "                               \"schema.schema.schema AS schema_schema_schema\",\n",
    "                               \"schema\",\n",
    "                               \"schema\",\n",
    "                               \"kst_timestamp AS timestamp\",\n",
    "                               \"yw\",\n",
    "                               \"ywd\",\n",
    "                               \"ym\",\n",
    "                               \"ymd\",\n",
    "                               \"schema\",\n",
    "                               \"schema\"\n",
    "                              )"
   ]
  },
  {
   "cell_type": "code",
   "execution_count": null,
   "metadata": {},
   "outputs": [],
   "source": [
    "cov_new_df.show(10)"
   ]
  },
  {
   "cell_type": "code",
   "execution_count": null,
   "metadata": {},
   "outputs": [],
   "source": [
    "cov_new_df.printSchema()"
   ]
  }
 ],
 "metadata": {
  "language_info": {
   "name": "python"
  }
 },
 "nbformat": 4,
 "nbformat_minor": 2
}
