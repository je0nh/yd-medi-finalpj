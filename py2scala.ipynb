{
 "cells": [
  {
   "cell_type": "code",
   "execution_count": null,
   "metadata": {},
   "outputs": [
    {
     "data": {
      "application/vnd.jupyter.widget-view+json": {
       "model_id": "17369fe2142142428df82a876b593bf1",
       "version_major": 2,
       "version_minor": 0
      },
      "text/plain": [
       "VBox()"
      ]
     },
     "metadata": {},
     "output_type": "display_data"
    },
    {
     "data": {
      "application/vnd.jupyter.widget-view+json": {
       "model_id": "",
       "version_major": 2,
       "version_minor": 0
      },
      "text/plain": [
       "FloatProgress(value=0.0, bar_style='info', description='Progress:', layout=Layout(height='25px', width='50%'),…"
      ]
     },
     "metadata": {},
     "output_type": "display_data"
    }
   ],
   "source": [
    "// %history -g"
   ]
  },
  {
   "cell_type": "code",
   "execution_count": null,
   "metadata": {},
   "outputs": [
    {
     "data": {
      "application/vnd.jupyter.widget-view+json": {
       "model_id": "c1766bf2adbf479c98c851d1c6f8a690",
       "version_major": 2,
       "version_minor": 0
      },
      "text/plain": [
       "VBox()"
      ]
     },
     "metadata": {},
     "output_type": "display_data"
    },
    {
     "name": "stdout",
     "output_type": "stream",
     "text": [
      "Starting Spark application\n"
     ]
    },
    {
     "data": {
      "text/html": [
       "<table>\n<tbody><tr><th>ID</th><th>YARN Application ID</th><th>Kind</th><th>State</th><th>Spark UI</th><th>Driver log</th><th>User</th><th>Current session?</th></tr><tr><td>41</td><td>application_1701234154983_0042</td><td>spark</td><td>idle</td><td><a target=\"_blank\" href=\"http://ip-10-102-21-169.ap-northeast-2.compute.internal:20888/proxy/application_1701234154983_0042/\" class=\"emr-proxy-link j-3IB6W2UM0EBDG application_1701234154983_0042\" emr-resource=\"j-3IB6W2UM0EBDG\n\" application-id=\"application_1701234154983_0042\">Link</a></td><td><a target=\"_blank\" href=\"http://ip-10-102-21-240.ap-northeast-2.compute.internal:8042/node/containerlogs/container_1701234154983_0042_01_000001/livy\">Link</a></td><td>None</td><td>✔</td></tr></tbody></table>"
      ],
      "text/plain": [
       "<IPython.core.display.HTML object>"
      ]
     },
     "metadata": {},
     "output_type": "display_data"
    },
    {
     "data": {
      "application/vnd.jupyter.widget-view+json": {
       "model_id": "",
       "version_major": 2,
       "version_minor": 0
      },
      "text/plain": [
       "FloatProgress(value=0.0, bar_style='info', description='Progress:', layout=Layout(height='25px', width='50%'),…"
      ]
     },
     "metadata": {},
     "output_type": "display_data"
    },
    {
     "name": "stdout",
     "output_type": "stream",
     "text": [
      "SparkSession available as 'spark'.\n"
     ]
    },
    {
     "data": {
      "application/vnd.jupyter.widget-view+json": {
       "model_id": "",
       "version_major": 2,
       "version_minor": 0
      },
      "text/plain": [
       "FloatProgress(value=0.0, bar_style='info', description='Progress:', layout=Layout(height='25px', width='50%'),…"
      ]
     },
     "metadata": {},
     "output_type": "display_data"
    },
    {
     "name": "stdout",
     "output_type": "stream",
     "text": [
      "import org.apache.spark.sql.functions._\n",
      "import org.apache.spark.sql.{SparkSession, functions, DataFrame}\n",
      "import org.apache.spark.sql.types.{StructType, StructField, StringType, ArrayType}\n",
      "import org.apache.spark.util.SizeEstimator\n"
     ]
    }
   ],
   "source": [
    "import org.apache.spark.sql.functions._\n",
    "import org.apache.spark.sql.{SparkSession, functions, DataFrame}\n",
    "import org.apache.spark.sql.types.{StructType, StructField, StringType, ArrayType}\n",
    "import org.apache.spark.util.SizeEstimator"
   ]
  },
  {
   "cell_type": "code",
   "execution_count": null,
   "metadata": {},
   "outputs": [
    {
     "data": {
      "application/vnd.jupyter.widget-view+json": {
       "model_id": "170e25676ab04ea78cef2653f920b1a9",
       "version_major": 2,
       "version_minor": 0
      },
      "text/plain": [
       "VBox()"
      ]
     },
     "metadata": {},
     "output_type": "display_data"
    },
    {
     "data": {
      "application/vnd.jupyter.widget-view+json": {
       "model_id": "",
       "version_major": 2,
       "version_minor": 0
      },
      "text/plain": [
       "FloatProgress(value=0.0, bar_style='info', description='Progress:', layout=Layout(height='25px', width='50%'),…"
      ]
     },
     "metadata": {},
     "output_type": "display_data"
    },
    {
     "name": "stdout",
     "output_type": "stream",
     "text": [
      "spark: org.apache.spark.sql.SparkSession = org.apache.spark.sql.SparkSession@7139ce86\n"
     ]
    }
   ],
   "source": [
    "val spark = SparkSession.builder.appName(\"loadDataToPy2Scala\").getOrCreate()"
   ]
  },
  {
   "cell_type": "code",
   "execution_count": null,
   "metadata": {},
   "outputs": [
    {
     "data": {
      "application/vnd.jupyter.widget-view+json": {
       "model_id": "7fb57e492e7b4e6c8c907080beea3f8a",
       "version_major": 2,
       "version_minor": 0
      },
      "text/plain": [
       "VBox()"
      ]
     },
     "metadata": {},
     "output_type": "display_data"
    },
    {
     "data": {
      "application/vnd.jupyter.widget-view+json": {
       "model_id": "",
       "version_major": 2,
       "version_minor": 0
      },
      "text/plain": [
       "FloatProgress(value=0.0, bar_style='info', description='Progress:', layout=Layout(height='25px', width='50%'),…"
      ]
     },
     "metadata": {},
     "output_type": "display_data"
    },
    {
     "name": "stdout",
     "output_type": "stream",
     "text": [
      "segmentFolderList: Seq[String] = List(2Gk4MiDnPtoaRwQkCxeSkZ/, 61pktWj9yLj7tBBUBPUCCf/, pAzAoFnKNpLfHxRmZ2oDF4/)\n"
     ]
    }
   ],
   "source": [
    "val segmentFolderList = Seq(\"2Gk4MiDnPtoaRwQkCxeSkZ/\", \"61pktWj9yLj7tBBUBPUCCf/\", \"pAzAoFnKNpLfHxRmZ2oDF4/\")"
   ]
  },
  {
   "cell_type": "code",
   "execution_count": null,
   "metadata": {},
   "outputs": [
    {
     "data": {
      "application/vnd.jupyter.widget-view+json": {
       "model_id": "5f79a2e92239486992712e81e10828ee",
       "version_major": 2,
       "version_minor": 0
      },
      "text/plain": [
       "VBox()"
      ]
     },
     "metadata": {},
     "output_type": "display_data"
    },
    {
     "data": {
      "application/vnd.jupyter.widget-view+json": {
       "model_id": "",
       "version_major": 2,
       "version_minor": 0
      },
      "text/plain": [
       "FloatProgress(value=0.0, bar_style='info', description='Progress:', layout=Layout(height='25px', width='50%'),…"
      ]
     },
     "metadata": {},
     "output_type": "display_data"
    },
    {
     "name": "stdout",
     "output_type": "stream",
     "text": [
      "df1: org.apache.spark.sql.DataFrame = [_metadata: struct<bundled: array<string>, bundledIds: array<string> ... 1 more field>, anonymousId: string ... 16 more fields]\n"
     ]
    }
   ],
   "source": [
    "val df1 = spark.read.option(\"mergeSchema\", \"true\").json(\"s3://emr-data-sync/segment-logs/*/*\")"
   ]
  },
  {
   "cell_type": "code",
   "execution_count": null,
   "metadata": {},
   "outputs": [
    {
     "data": {
      "application/vnd.jupyter.widget-view+json": {
       "model_id": "fd36f60e438e459792aeefa148ddd0e0",
       "version_major": 2,
       "version_minor": 0
      },
      "text/plain": [
       "VBox()"
      ]
     },
     "metadata": {},
     "output_type": "display_data"
    },
    {
     "data": {
      "application/vnd.jupyter.widget-view+json": {
       "model_id": "",
       "version_major": 2,
       "version_minor": 0
      },
      "text/plain": [
       "FloatProgress(value=0.0, bar_style='info', description='Progress:', layout=Layout(height='25px', width='50%'),…"
      ]
     },
     "metadata": {},
     "output_type": "display_data"
    },
    {
     "name": "stdout",
     "output_type": "stream",
     "text": [
      "dfSize: Long = 644286296\n",
      "Dataframe Size : 644286296\n",
      "res14: Long = 20494349\n"
     ]
    }
   ],
   "source": [
    "val dfSize = SizeEstimator.estimate(df1)\n",
    "println(s\"Dataframe Size : ${dfSize}\")\n",
    "df1.cache().count()"
   ]
  },
  {
   "cell_type": "code",
   "execution_count": null,
   "metadata": {},
   "outputs": [
    {
     "data": {
      "application/vnd.jupyter.widget-view+json": {
       "model_id": "068af5b95ffe44cb8e06984a76ceb307",
       "version_major": 2,
       "version_minor": 0
      },
      "text/plain": [
       "VBox()"
      ]
     },
     "metadata": {},
     "output_type": "display_data"
    },
    {
     "data": {
      "application/vnd.jupyter.widget-view+json": {
       "model_id": "",
       "version_major": 2,
       "version_minor": 0
      },
      "text/plain": [
       "FloatProgress(value=0.0, bar_style='info', description='Progress:', layout=Layout(height='25px', width='50%'),…"
      ]
     },
     "metadata": {},
     "output_type": "display_data"
    },
    {
     "name": "stdout",
     "output_type": "stream",
     "text": [
      "root\n",
      " |-- _metadata: struct (nullable = true)\n",
      " |    |-- bundled: array (nullable = true)\n",
      " |    |    |-- element: string (containsNull = true)\n",
      " |    |-- bundledIds: array (nullable = true)\n",
      " |    |    |-- element: string (containsNull = true)\n",
      " |    |-- unbundled: array (nullable = true)\n",
      " |    |    |-- element: string (containsNull = true)\n",
      " |-- anonymousId: string (nullable = true)\n",
      " |-- category: string (nullable = true)\n",
      " |-- channel: string (nullable = true)\n",
      " |-- context: struct (nullable = true)\n",
      " |    |-- campaign: struct (nullable = true)\n",
      " |    |    |-- content: string (nullable = true)\n",
      " |    |    |-- id: string (nullable = true)\n",
      " |    |    |-- medium: string (nullable = true)\n",
      " |    |    |-- mediumKMDForest: string (nullable = true)\n",
      " |    |    |-- name: string (nullable = true)\n",
      " |    |    |-- soruce: string (nullable = true)\n",
      " |    |    |-- source: string (nullable = true)\n",
      " |    |    |-- term: string (nullable = true)\n",
      " |    |-- ip: string (nullable = true)\n",
      " |    |-- library: struct (nullable = true)\n",
      " |    |    |-- name: string (nullable = true)\n",
      " |    |    |-- version: string (nullable = true)\n",
      " |    |-- locale: string (nullable = true)\n",
      " |    |-- page: struct (nullable = true)\n",
      " |    |    |-- path: string (nullable = true)\n",
      " |    |    |-- referrer: string (nullable = true)\n",
      " |    |    |-- search: string (nullable = true)\n",
      " |    |    |-- title: string (nullable = true)\n",
      " |    |    |-- url: string (nullable = true)\n",
      " |    |-- userAgent: string (nullable = true)\n",
      " |    |-- userAgentData: struct (nullable = true)\n",
      " |    |    |-- brands: array (nullable = true)\n",
      " |    |    |    |-- element: struct (containsNull = true)\n",
      " |    |    |    |    |-- brand: string (nullable = true)\n",
      " |    |    |    |    |-- version: string (nullable = true)\n",
      " |    |    |-- mobile: boolean (nullable = true)\n",
      " |    |    |-- platform: string (nullable = true)\n",
      " |-- event: string (nullable = true)\n",
      " |-- messageId: string (nullable = true)\n",
      " |-- name: string (nullable = true)\n",
      " |-- originalTimestamp: string (nullable = true)\n",
      " |-- projectId: string (nullable = true)\n",
      " |-- properties: struct (nullable = true)\n",
      " |    |-- action: struct (nullable = true)\n",
      " |    |    |-- hospital: array (nullable = true)\n",
      " |    |    |    |-- element: string (containsNull = true)\n",
      " |    |    |-- name: string (nullable = true)\n",
      " |    |-- button: struct (nullable = true)\n",
      " |    |    |-- hospital: array (nullable = true)\n",
      " |    |    |    |-- element: string (containsNull = true)\n",
      " |    |    |-- link: string (nullable = true)\n",
      " |    |    |-- name: string (nullable = true)\n",
      " |    |    |-- position: double (nullable = true)\n",
      " |    |    |-- region: array (nullable = true)\n",
      " |    |    |    |-- element: string (containsNull = true)\n",
      " |    |    |-- selected_item: string (nullable = true)\n",
      " |    |-- category: string (nullable = true)\n",
      " |    |-- name: string (nullable = true)\n",
      " |    |-- page: struct (nullable = true)\n",
      " |    |    |-- name: string (nullable = true)\n",
      " |    |-- path: string (nullable = true)\n",
      " |    |-- properties: struct (nullable = true)\n",
      " |    |    |-- hospitalId: string (nullable = true)\n",
      " |    |    |-- name: string (nullable = true)\n",
      " |    |    |-- pageName: string (nullable = true)\n",
      " |    |    |-- path: string (nullable = true)\n",
      " |    |    |-- routeName: string (nullable = true)\n",
      " |    |    |-- search: struct (nullable = true)\n",
      " |    |    |    |-- sort: string (nullable = true)\n",
      " |    |    |    |-- utm_campaign: string (nullable = true)\n",
      " |    |    |    |-- utm_content: string (nullable = true)\n",
      " |    |    |    |-- utm_medium: string (nullable = true)\n",
      " |    |    |    |-- utm_source: string (nullable = true)\n",
      " |    |    |    |-- utm_term: string (nullable = true)\n",
      " |    |    |-- to: string (nullable = true)\n",
      " |    |    |-- url: string (nullable = true)\n",
      " |    |-- referrer: string (nullable = true)\n",
      " |    |-- search: string (nullable = true)\n",
      " |    |-- title: string (nullable = true)\n",
      " |    |-- type: string (nullable = true)\n",
      " |    |-- url: string (nullable = true)\n",
      " |    |-- userId: string (nullable = true)\n",
      " |    |-- version: string (nullable = true)\n",
      " |-- receivedAt: string (nullable = true)\n",
      " |-- sentAt: string (nullable = true)\n",
      " |-- timestamp: string (nullable = true)\n",
      " |-- traits: struct (nullable = true)\n",
      " |    |-- customerId: string (nullable = true)\n",
      " |-- type: string (nullable = true)\n",
      " |-- userId: string (nullable = true)\n",
      " |-- version: long (nullable = true)\n",
      "\n"
     ]
    }
   ],
   "source": [
    "df1.printSchema()"
   ]
  },
  {
   "cell_type": "code",
   "execution_count": null,
   "metadata": {},
   "outputs": [
    {
     "data": {
      "application/vnd.jupyter.widget-view+json": {
       "model_id": "0ab65a9d5b3f4db3baad39238a3d488f",
       "version_major": 2,
       "version_minor": 0
      },
      "text/plain": [
       "VBox()"
      ]
     },
     "metadata": {},
     "output_type": "display_data"
    },
    {
     "data": {
      "application/vnd.jupyter.widget-view+json": {
       "model_id": "",
       "version_major": 2,
       "version_minor": 0
      },
      "text/plain": [
       "FloatProgress(value=0.0, bar_style='info', description='Progress:', layout=Layout(height='25px', width='50%'),…"
      ]
     },
     "metadata": {},
     "output_type": "display_data"
    }
   ],
   "source": [
    "df1.createOrReplaceTempView(\"df\")"
   ]
  },
  {
   "cell_type": "code",
   "execution_count": null,
   "metadata": {},
   "outputs": [
    {
     "data": {
      "application/vnd.jupyter.widget-view+json": {
       "model_id": "ae0e11289a464d24b5ced6855648789f",
       "version_major": 2,
       "version_minor": 0
      },
      "text/plain": [
       "VBox()"
      ]
     },
     "metadata": {},
     "output_type": "display_data"
    },
    {
     "data": {
      "application/vnd.jupyter.widget-view+json": {
       "model_id": "",
       "version_major": 2,
       "version_minor": 0
      },
      "text/plain": [
       "FloatProgress(value=0.0, bar_style='info', description='Progress:', layout=Layout(height='25px', width='50%'),…"
      ]
     },
     "metadata": {},
     "output_type": "display_data"
    },
    {
     "name": "stdout",
     "output_type": "stream",
     "text": [
      "check_data: org.apache.spark.sql.DataFrame = [anonymousid: string, context_useragent: string ... 19 more fields]\n"
     ]
    }
   ],
   "source": [
    "val check_data = spark.sql(\"\"\"\n",
    "SELECT anonymousid, context.userAgent as context_useragent, context.ip as context_ip, context.locale as context_locale, context.page.url as context_page_url, context, messageid, properties.path as properties_path, properties.page as properties_page, properties.button.name as properties_button_name, properties.action.name as properties_action_name, properties.action.hospital as properties_action_hospital, properties.button.hospital as properties_button_hospital, properties.properties.hospitalid as properties_properties_hospitalid, properties.properties.pagename as properties_properties_pagename, properties.properties.routename as properties_properties_routename, properties.properties.to as properties_properties_to, properties, event, type, userId\n",
    "FROM df\n",
    "LIMIT 5;\n",
    "\"\"\")\n",
    "//, convert_timezone(\"KST\", \"UTC\", timestamp) as timestamp, to_char(dateadd('day', 1, convert_timezone(\"KST\", \"UTC\", timestamp)),'IYYY-IW') as yw, dateadd('day', -1, date_trunc('week', dateadd('day', 1, convert_timezone(\"KST\", \"UTC\", timestamp)))) as ywd, to_char(convert_timezone(\"KST\", \"UTC\", timestamp), 'yyyy-mm') as ym, to_char(convert_timezone(\"KST\", \"UTC\", timestamp), 'yyyy-mm-dd') as ymd"
   ]
  },
  {
   "cell_type": "code",
   "execution_count": null,
   "metadata": {},
   "outputs": [
    {
     "data": {
      "application/vnd.jupyter.widget-view+json": {
       "model_id": "7d626a42f9da44af9f2566c6f39c3f4f",
       "version_major": 2,
       "version_minor": 0
      },
      "text/plain": [
       "VBox()"
      ]
     },
     "metadata": {},
     "output_type": "display_data"
    },
    {
     "data": {
      "application/vnd.jupyter.widget-view+json": {
       "model_id": "",
       "version_major": 2,
       "version_minor": 0
      },
      "text/plain": [
       "FloatProgress(value=0.0, bar_style='info', description='Progress:', layout=Layout(height='25px', width='50%'),…"
      ]
     },
     "metadata": {},
     "output_type": "display_data"
    },
    {
     "name": "stdout",
     "output_type": "stream",
     "text": [
      "+--------------------+--------------------+--------------+--------------+--------------------+--------------------+--------------------+---------------+---------------+----------------------+----------------------+--------------------------+--------------------------+--------------------------------+------------------------------+-------------------------------+------------------------+--------------------+-----+--------+--------------------+\n",
      "|         anonymousid|   context_useragent|    context_ip|context_locale|    context_page_url|             context|           messageid|properties_path|properties_page|properties_button_name|properties_action_name|properties_action_hospital|properties_button_hospital|properties_properties_hospitalid|properties_properties_pagename|properties_properties_routename|properties_properties_to|          properties|event|    type|              userId|\n",
      "+--------------------+--------------------+--------------+--------------+--------------------+--------------------+--------------------+---------------+---------------+----------------------+----------------------+--------------------------+--------------------------+--------------------------------+------------------------------+-------------------------------+------------------------+--------------------+-----+--------+--------------------+\n",
      "|9d9a3a32-27f0-4af...|Mozilla/5.0 (Maci...| 220.92.76.236|         ko-KR|https://medistrea...|{{null, null, nul...|ajs-next-99c48690...|/articles/48538|           null|                  null|                  null|                      null|                      null|                            null|                          null|                           null|                    null|{null, null, , Ar...| null|    page|6236b1368b11ae2c3...|\n",
      "|bf083d50-d4e7-446...|Mozilla/5.0 (Linu...|106.101.192.16|         ko-KR|https://medistrea...|{null, 106.101.19...|ajs-next-f4e6d175...|           null|           null|                  null|                  null|                      null|                      null|                            null|                          null|                           null|                    null|                null| null|identify|26923715f3ce9bff2...|\n",
      "|07603f5a-7164-428...|Mozilla/5.0 (iPho...|172.225.52.238|         ko-KR|https://medistrea...|{{null, null, nul...|ajs-next-6694a64b...|           null|           null|                  null|                  null|                      null|                      null|                            null|                          null|                           null|                    null|                null| null|identify|4e1351459ec8eb99a...|\n",
      "|07603f5a-7164-428...|Mozilla/5.0 (iPho...|172.225.52.238|         ko-KR|https://medistrea...|{{null, null, nul...|ajs-next-3cb785d8...|           null|           null|                  null|                  null|                      null|                      null|                            null|                          null|                           null|                    null|                null| null|identify|4e1351459ec8eb99a...|\n",
      "|478d4f77-0126-4d4...|Mozilla/5.0 (iPho...| 61.83.224.247|         ko-KR|https://medistrea...|{null, 61.83.224....|ajs-next-88eb97be...|           null|           null|                  null|                  null|                      null|                      null|                            null|                          null|                           null|                    null|                null| null|identify|1c93dbb79c150d0fa...|\n",
      "+--------------------+--------------------+--------------+--------------+--------------------+--------------------+--------------------+---------------+---------------+----------------------+----------------------+--------------------------+--------------------------+--------------------------------+------------------------------+-------------------------------+------------------------+--------------------+-----+--------+--------------------+\n",
      "\n"
     ]
    }
   ],
   "source": [
    "check_data.show()"
   ]
  },
  {
   "cell_type": "code",
   "execution_count": null,
   "metadata": {},
   "outputs": [
    {
     "data": {
      "application/vnd.jupyter.widget-view+json": {
       "model_id": "55eaf8e07a7248c29774b4936ed2741e",
       "version_major": 2,
       "version_minor": 0
      },
      "text/plain": [
       "VBox()"
      ]
     },
     "metadata": {},
     "output_type": "display_data"
    },
    {
     "data": {
      "application/vnd.jupyter.widget-view+json": {
       "model_id": "",
       "version_major": 2,
       "version_minor": 0
      },
      "text/plain": [
       "FloatProgress(value=0.0, bar_style='info', description='Progress:', layout=Layout(height='25px', width='50%'),…"
      ]
     },
     "metadata": {},
     "output_type": "display_data"
    },
    {
     "name": "stdout",
     "output_type": "stream",
     "text": [
      "root\n",
      " |-- anonymousid: string (nullable = true)\n",
      " |-- context_useragent: string (nullable = true)\n",
      " |-- context_ip: string (nullable = true)\n",
      " |-- context_locale: string (nullable = true)\n",
      " |-- context_page_url: string (nullable = true)\n",
      " |-- context: struct (nullable = true)\n",
      " |    |-- campaign: struct (nullable = true)\n",
      " |    |    |-- content: string (nullable = true)\n",
      " |    |    |-- id: string (nullable = true)\n",
      " |    |    |-- medium: string (nullable = true)\n",
      " |    |    |-- mediumKMDForest: string (nullable = true)\n",
      " |    |    |-- name: string (nullable = true)\n",
      " |    |    |-- soruce: string (nullable = true)\n",
      " |    |    |-- source: string (nullable = true)\n",
      " |    |    |-- term: string (nullable = true)\n",
      " |    |-- ip: string (nullable = true)\n",
      " |    |-- library: struct (nullable = true)\n",
      " |    |    |-- name: string (nullable = true)\n",
      " |    |    |-- version: string (nullable = true)\n",
      " |    |-- locale: string (nullable = true)\n",
      " |    |-- page: struct (nullable = true)\n",
      " |    |    |-- path: string (nullable = true)\n",
      " |    |    |-- referrer: string (nullable = true)\n",
      " |    |    |-- search: string (nullable = true)\n",
      " |    |    |-- title: string (nullable = true)\n",
      " |    |    |-- url: string (nullable = true)\n",
      " |    |-- userAgent: string (nullable = true)\n",
      " |    |-- userAgentData: struct (nullable = true)\n",
      " |    |    |-- brands: array (nullable = true)\n",
      " |    |    |    |-- element: struct (containsNull = true)\n",
      " |    |    |    |    |-- brand: string (nullable = true)\n",
      " |    |    |    |    |-- version: string (nullable = true)\n",
      " |    |    |-- mobile: boolean (nullable = true)\n",
      " |    |    |-- platform: string (nullable = true)\n",
      " |-- messageid: string (nullable = true)\n",
      " |-- properties_path: string (nullable = true)\n",
      " |-- properties_page: struct (nullable = true)\n",
      " |    |-- name: string (nullable = true)\n",
      " |-- properties_button_name: string (nullable = true)\n",
      " |-- properties_action_name: string (nullable = true)\n",
      " |-- properties_action_hospital: array (nullable = true)\n",
      " |    |-- element: string (containsNull = true)\n",
      " |-- properties_button_hospital: array (nullable = true)\n",
      " |    |-- element: string (containsNull = true)\n",
      " |-- properties_properties_hospitalid: string (nullable = true)\n",
      " |-- properties_properties_pagename: string (nullable = true)\n",
      " |-- properties_properties_routename: string (nullable = true)\n",
      " |-- properties_properties_to: string (nullable = true)\n",
      " |-- properties: struct (nullable = true)\n",
      " |    |-- action: struct (nullable = true)\n",
      " |    |    |-- hospital: array (nullable = true)\n",
      " |    |    |    |-- element: string (containsNull = true)\n",
      " |    |    |-- name: string (nullable = true)\n",
      " |    |-- button: struct (nullable = true)\n",
      " |    |    |-- hospital: array (nullable = true)\n",
      " |    |    |    |-- element: string (containsNull = true)\n",
      " |    |    |-- link: string (nullable = true)\n",
      " |    |    |-- name: string (nullable = true)\n",
      " |    |    |-- position: double (nullable = true)\n",
      " |    |    |-- region: array (nullable = true)\n",
      " |    |    |    |-- element: string (containsNull = true)\n",
      " |    |    |-- selected_item: string (nullable = true)\n",
      " |    |-- category: string (nullable = true)\n",
      " |    |-- name: string (nullable = true)\n",
      " |    |-- page: struct (nullable = true)\n",
      " |    |    |-- name: string (nullable = true)\n",
      " |    |-- path: string (nullable = true)\n",
      " |    |-- properties: struct (nullable = true)\n",
      " |    |    |-- hospitalId: string (nullable = true)\n",
      " |    |    |-- name: string (nullable = true)\n",
      " |    |    |-- pageName: string (nullable = true)\n",
      " |    |    |-- path: string (nullable = true)\n",
      " |    |    |-- routeName: string (nullable = true)\n",
      " |    |    |-- search: struct (nullable = true)\n",
      " |    |    |    |-- sort: string (nullable = true)\n",
      " |    |    |    |-- utm_campaign: string (nullable = true)\n",
      " |    |    |    |-- utm_content: string (nullable = true)\n",
      " |    |    |    |-- utm_medium: string (nullable = true)\n",
      " |    |    |    |-- utm_source: string (nullable = true)\n",
      " |    |    |    |-- utm_term: string (nullable = true)\n",
      " |    |    |-- to: string (nullable = true)\n",
      " |    |    |-- url: string (nullable = true)\n",
      " |    |-- referrer: string (nullable = true)\n",
      " |    |-- search: string (nullable = true)\n",
      " |    |-- title: string (nullable = true)\n",
      " |    |-- type: string (nullable = true)\n",
      " |    |-- url: string (nullable = true)\n",
      " |    |-- userId: string (nullable = true)\n",
      " |    |-- version: string (nullable = true)\n",
      " |-- event: string (nullable = true)\n",
      " |-- type: string (nullable = true)\n",
      " |-- userId: string (nullable = true)\n",
      "\n"
     ]
    }
   ],
   "source": [
    "check_data.printSchema()"
   ]
  },
  {
   "cell_type": "code",
   "execution_count": null,
   "metadata": {},
   "outputs": [
    {
     "data": {
      "application/vnd.jupyter.widget-view+json": {
       "model_id": "1b573f7a18874696b85878323836edd7",
       "version_major": 2,
       "version_minor": 0
      },
      "text/plain": [
       "VBox()"
      ]
     },
     "metadata": {},
     "output_type": "display_data"
    },
    {
     "data": {
      "application/vnd.jupyter.widget-view+json": {
       "model_id": "",
       "version_major": 2,
       "version_minor": 0
      },
      "text/plain": [
       "FloatProgress(value=0.0, bar_style='info', description='Progress:', layout=Layout(height='25px', width='50%'),…"
      ]
     },
     "metadata": {},
     "output_type": "display_data"
    },
    {
     "name": "stdout",
     "output_type": "stream",
     "text": [
      "res15: Long = 4055\n"
     ]
    }
   ],
   "source": [
    "spark.sql(\"select properties.action.hospital from df where properties.action.hospital is not null;\").count()"
   ]
  },
  {
   "cell_type": "code",
   "execution_count": null,
   "metadata": {},
   "outputs": [],
   "source": []
  },
  {
   "cell_type": "code",
   "execution_count": 15,
   "metadata": {
    "execution": {
     "iopub.execute_input": "2023-11-30T00:49:45.110440Z",
     "iopub.status.busy": "2023-11-30T00:49:45.110253Z",
     "iopub.status.idle": "2023-11-30T00:49:45.864727Z",
     "shell.execute_reply": "2023-11-30T00:49:45.863974Z",
     "shell.execute_reply.started": "2023-11-30T00:49:45.110417Z"
    },
    "tags": []
   },
   "outputs": [
    {
     "data": {
      "application/vnd.jupyter.widget-view+json": {
       "model_id": "17369fe2142142428df82a876b593bf1",
       "version_major": 2,
       "version_minor": 0
      },
      "text/plain": [
       "VBox()"
      ]
     },
     "metadata": {},
     "output_type": "display_data"
    },
    {
     "data": {
      "application/vnd.jupyter.widget-view+json": {
       "model_id": "",
       "version_major": 2,
       "version_minor": 0
      },
      "text/plain": [
       "FloatProgress(value=0.0, bar_style='info', description='Progress:', layout=Layout(height='25px', width='50%'),…"
      ]
     },
     "metadata": {},
     "output_type": "display_data"
    }
   ],
   "source": [
    "// %history -g"
   ]
  },
  {
   "cell_type": "code",
   "execution_count": 1,
   "metadata": {
    "execution": {
     "iopub.execute_input": "2023-11-30T00:12:23.620921Z",
     "iopub.status.busy": "2023-11-30T00:12:23.620578Z",
     "iopub.status.idle": "2023-11-30T00:13:10.483434Z",
     "shell.execute_reply": "2023-11-30T00:13:10.482778Z",
     "shell.execute_reply.started": "2023-11-30T00:12:23.620891Z"
    },
    "tags": []
   },
   "outputs": [
    {
     "data": {
      "application/vnd.jupyter.widget-view+json": {
       "model_id": "c1766bf2adbf479c98c851d1c6f8a690",
       "version_major": 2,
       "version_minor": 0
      },
      "text/plain": [
       "VBox()"
      ]
     },
     "metadata": {},
     "output_type": "display_data"
    },
    {
     "name": "stdout",
     "output_type": "stream",
     "text": [
      "Starting Spark application\n"
     ]
    },
    {
     "data": {
      "text/html": [
       "<table>\n",
       "<tbody><tr><th>ID</th><th>YARN Application ID</th><th>Kind</th><th>State</th><th>Spark UI</th><th>Driver log</th><th>User</th><th>Current session?</th></tr><tr><td>41</td><td>application_1701234154983_0042</td><td>spark</td><td>idle</td><td><a target=\"_blank\" href=\"http://ip-10-102-21-169.ap-northeast-2.compute.internal:20888/proxy/application_1701234154983_0042/\" class=\"emr-proxy-link j-3IB6W2UM0EBDG application_1701234154983_0042\" emr-resource=\"j-3IB6W2UM0EBDG\n",
       "\" application-id=\"application_1701234154983_0042\">Link</a></td><td><a target=\"_blank\" href=\"http://ip-10-102-21-240.ap-northeast-2.compute.internal:8042/node/containerlogs/container_1701234154983_0042_01_000001/livy\">Link</a></td><td>None</td><td>✔</td></tr></tbody></table>"
      ],
      "text/plain": [
       "<IPython.core.display.HTML object>"
      ]
     },
     "metadata": {},
     "output_type": "display_data"
    },
    {
     "data": {
      "application/vnd.jupyter.widget-view+json": {
       "model_id": "",
       "version_major": 2,
       "version_minor": 0
      },
      "text/plain": [
       "FloatProgress(value=0.0, bar_style='info', description='Progress:', layout=Layout(height='25px', width='50%'),…"
      ]
     },
     "metadata": {},
     "output_type": "display_data"
    },
    {
     "name": "stdout",
     "output_type": "stream",
     "text": [
      "SparkSession available as 'spark'.\n"
     ]
    },
    {
     "data": {
      "application/vnd.jupyter.widget-view+json": {
       "model_id": "",
       "version_major": 2,
       "version_minor": 0
      },
      "text/plain": [
       "FloatProgress(value=0.0, bar_style='info', description='Progress:', layout=Layout(height='25px', width='50%'),…"
      ]
     },
     "metadata": {},
     "output_type": "display_data"
    },
    {
     "name": "stdout",
     "output_type": "stream",
     "text": [
      "import org.apache.spark.sql.functions._\n",
      "import org.apache.spark.sql.{SparkSession, functions, DataFrame}\n",
      "import org.apache.spark.sql.types.{StructType, StructField, StringType, ArrayType}\n",
      "import org.apache.spark.util.SizeEstimator\n"
     ]
    }
   ],
   "source": [
    "import org.apache.spark.sql.functions._\n",
    "import org.apache.spark.sql.{SparkSession, functions, DataFrame}\n",
    "import org.apache.spark.sql.types.{StructType, StructField, StringType, ArrayType}\n",
    "import org.apache.spark.util.SizeEstimator"
   ]
  },
  {
   "cell_type": "code",
   "execution_count": 2,
   "metadata": {
    "execution": {
     "iopub.execute_input": "2023-11-30T00:13:10.484793Z",
     "iopub.status.busy": "2023-11-30T00:13:10.484584Z",
     "iopub.status.idle": "2023-11-30T00:13:13.768684Z",
     "shell.execute_reply": "2023-11-30T00:13:13.767876Z",
     "shell.execute_reply.started": "2023-11-30T00:13:10.484770Z"
    },
    "tags": []
   },
   "outputs": [
    {
     "data": {
      "application/vnd.jupyter.widget-view+json": {
       "model_id": "170e25676ab04ea78cef2653f920b1a9",
       "version_major": 2,
       "version_minor": 0
      },
      "text/plain": [
       "VBox()"
      ]
     },
     "metadata": {},
     "output_type": "display_data"
    },
    {
     "data": {
      "application/vnd.jupyter.widget-view+json": {
       "model_id": "",
       "version_major": 2,
       "version_minor": 0
      },
      "text/plain": [
       "FloatProgress(value=0.0, bar_style='info', description='Progress:', layout=Layout(height='25px', width='50%'),…"
      ]
     },
     "metadata": {},
     "output_type": "display_data"
    },
    {
     "name": "stdout",
     "output_type": "stream",
     "text": [
      "spark: org.apache.spark.sql.SparkSession = org.apache.spark.sql.SparkSession@7139ce86\n"
     ]
    }
   ],
   "source": [
    "val spark = SparkSession.builder.appName(\"loadDataToPy2Scala\").getOrCreate()"
   ]
  },
  {
   "cell_type": "code",
   "execution_count": 3,
   "metadata": {
    "execution": {
     "iopub.execute_input": "2023-11-30T00:13:13.771133Z",
     "iopub.status.busy": "2023-11-30T00:13:13.770612Z",
     "iopub.status.idle": "2023-11-30T00:13:15.063010Z",
     "shell.execute_reply": "2023-11-30T00:13:15.062262Z",
     "shell.execute_reply.started": "2023-11-30T00:13:13.771097Z"
    },
    "tags": []
   },
   "outputs": [
    {
     "data": {
      "application/vnd.jupyter.widget-view+json": {
       "model_id": "7fb57e492e7b4e6c8c907080beea3f8a",
       "version_major": 2,
       "version_minor": 0
      },
      "text/plain": [
       "VBox()"
      ]
     },
     "metadata": {},
     "output_type": "display_data"
    },
    {
     "data": {
      "application/vnd.jupyter.widget-view+json": {
       "model_id": "",
       "version_major": 2,
       "version_minor": 0
      },
      "text/plain": [
       "FloatProgress(value=0.0, bar_style='info', description='Progress:', layout=Layout(height='25px', width='50%'),…"
      ]
     },
     "metadata": {},
     "output_type": "display_data"
    },
    {
     "name": "stdout",
     "output_type": "stream",
     "text": [
      "segmentFolderList: Seq[String] = List(2Gk4MiDnPtoaRwQkCxeSkZ/, 61pktWj9yLj7tBBUBPUCCf/, pAzAoFnKNpLfHxRmZ2oDF4/)\n"
     ]
    }
   ],
   "source": [
    "val segmentFolderList = Seq(\"2Gk4MiDnPtoaRwQkCxeSkZ/\", \"61pktWj9yLj7tBBUBPUCCf/\", \"pAzAoFnKNpLfHxRmZ2oDF4/\")"
   ]
  },
  {
   "cell_type": "code",
   "execution_count": 4,
   "metadata": {
    "execution": {
     "iopub.execute_input": "2023-11-30T00:13:15.064505Z",
     "iopub.status.busy": "2023-11-30T00:13:15.064324Z",
     "iopub.status.idle": "2023-11-30T00:36:00.414881Z",
     "shell.execute_reply": "2023-11-30T00:36:00.414231Z",
     "shell.execute_reply.started": "2023-11-30T00:13:15.064483Z"
    },
    "tags": []
   },
   "outputs": [
    {
     "data": {
      "application/vnd.jupyter.widget-view+json": {
       "model_id": "5f79a2e92239486992712e81e10828ee",
       "version_major": 2,
       "version_minor": 0
      },
      "text/plain": [
       "VBox()"
      ]
     },
     "metadata": {},
     "output_type": "display_data"
    },
    {
     "data": {
      "application/vnd.jupyter.widget-view+json": {
       "model_id": "",
       "version_major": 2,
       "version_minor": 0
      },
      "text/plain": [
       "FloatProgress(value=0.0, bar_style='info', description='Progress:', layout=Layout(height='25px', width='50%'),…"
      ]
     },
     "metadata": {},
     "output_type": "display_data"
    },
    {
     "name": "stdout",
     "output_type": "stream",
     "text": [
      "df1: org.apache.spark.sql.DataFrame = [_metadata: struct<bundled: array<string>, bundledIds: array<string> ... 1 more field>, anonymousId: string ... 16 more fields]\n"
     ]
    }
   ],
   "source": [
    "val df1 = spark.read.option(\"mergeSchema\", \"true\").json(\"s3://emr-data-sync/segment-logs/*/*\")"
   ]
  },
  {
   "cell_type": "code",
   "execution_count": 17,
   "metadata": {
    "execution": {
     "iopub.execute_input": "2023-11-30T00:49:53.151088Z",
     "iopub.status.busy": "2023-11-30T00:49:53.150847Z",
     "iopub.status.idle": "2023-11-30T01:04:51.016052Z",
     "shell.execute_reply": "2023-11-30T01:04:51.015373Z",
     "shell.execute_reply.started": "2023-11-30T00:49:53.151053Z"
    },
    "tags": []
   },
   "outputs": [
    {
     "data": {
      "application/vnd.jupyter.widget-view+json": {
       "model_id": "fd36f60e438e459792aeefa148ddd0e0",
       "version_major": 2,
       "version_minor": 0
      },
      "text/plain": [
       "VBox()"
      ]
     },
     "metadata": {},
     "output_type": "display_data"
    },
    {
     "data": {
      "application/vnd.jupyter.widget-view+json": {
       "model_id": "",
       "version_major": 2,
       "version_minor": 0
      },
      "text/plain": [
       "FloatProgress(value=0.0, bar_style='info', description='Progress:', layout=Layout(height='25px', width='50%'),…"
      ]
     },
     "metadata": {},
     "output_type": "display_data"
    },
    {
     "name": "stdout",
     "output_type": "stream",
     "text": [
      "dfSize: Long = 644286296\n",
      "Dataframe Size : 644286296\n",
      "res14: Long = 20494349\n"
     ]
    }
   ],
   "source": [
    "val dfSize = SizeEstimator.estimate(df1)\n",
    "println(s\"Dataframe Size : ${dfSize}\")\n",
    "df1.cache().count()"
   ]
  },
  {
   "cell_type": "code",
   "execution_count": 6,
   "metadata": {
    "execution": {
     "iopub.execute_input": "2023-11-30T00:36:09.838781Z",
     "iopub.status.busy": "2023-11-30T00:36:09.838614Z",
     "iopub.status.idle": "2023-11-30T00:36:11.092137Z",
     "shell.execute_reply": "2023-11-30T00:36:11.091343Z",
     "shell.execute_reply.started": "2023-11-30T00:36:09.838760Z"
    },
    "tags": []
   },
   "outputs": [
    {
     "data": {
      "application/vnd.jupyter.widget-view+json": {
       "model_id": "068af5b95ffe44cb8e06984a76ceb307",
       "version_major": 2,
       "version_minor": 0
      },
      "text/plain": [
       "VBox()"
      ]
     },
     "metadata": {},
     "output_type": "display_data"
    },
    {
     "data": {
      "application/vnd.jupyter.widget-view+json": {
       "model_id": "",
       "version_major": 2,
       "version_minor": 0
      },
      "text/plain": [
       "FloatProgress(value=0.0, bar_style='info', description='Progress:', layout=Layout(height='25px', width='50%'),…"
      ]
     },
     "metadata": {},
     "output_type": "display_data"
    },
    {
     "name": "stdout",
     "output_type": "stream",
     "text": [
      "root\n",
      " |-- _metadata: struct (nullable = true)\n",
      " |    |-- bundled: array (nullable = true)\n",
      " |    |    |-- element: string (containsNull = true)\n",
      " |    |-- bundledIds: array (nullable = true)\n",
      " |    |    |-- element: string (containsNull = true)\n",
      " |    |-- unbundled: array (nullable = true)\n",
      " |    |    |-- element: string (containsNull = true)\n",
      " |-- anonymousId: string (nullable = true)\n",
      " |-- category: string (nullable = true)\n",
      " |-- channel: string (nullable = true)\n",
      " |-- context: struct (nullable = true)\n",
      " |    |-- campaign: struct (nullable = true)\n",
      " |    |    |-- content: string (nullable = true)\n",
      " |    |    |-- id: string (nullable = true)\n",
      " |    |    |-- medium: string (nullable = true)\n",
      " |    |    |-- mediumKMDForest: string (nullable = true)\n",
      " |    |    |-- name: string (nullable = true)\n",
      " |    |    |-- soruce: string (nullable = true)\n",
      " |    |    |-- source: string (nullable = true)\n",
      " |    |    |-- term: string (nullable = true)\n",
      " |    |-- ip: string (nullable = true)\n",
      " |    |-- library: struct (nullable = true)\n",
      " |    |    |-- name: string (nullable = true)\n",
      " |    |    |-- version: string (nullable = true)\n",
      " |    |-- locale: string (nullable = true)\n",
      " |    |-- page: struct (nullable = true)\n",
      " |    |    |-- path: string (nullable = true)\n",
      " |    |    |-- referrer: string (nullable = true)\n",
      " |    |    |-- search: string (nullable = true)\n",
      " |    |    |-- title: string (nullable = true)\n",
      " |    |    |-- url: string (nullable = true)\n",
      " |    |-- userAgent: string (nullable = true)\n",
      " |    |-- userAgentData: struct (nullable = true)\n",
      " |    |    |-- brands: array (nullable = true)\n",
      " |    |    |    |-- element: struct (containsNull = true)\n",
      " |    |    |    |    |-- brand: string (nullable = true)\n",
      " |    |    |    |    |-- version: string (nullable = true)\n",
      " |    |    |-- mobile: boolean (nullable = true)\n",
      " |    |    |-- platform: string (nullable = true)\n",
      " |-- event: string (nullable = true)\n",
      " |-- messageId: string (nullable = true)\n",
      " |-- name: string (nullable = true)\n",
      " |-- originalTimestamp: string (nullable = true)\n",
      " |-- projectId: string (nullable = true)\n",
      " |-- properties: struct (nullable = true)\n",
      " |    |-- action: struct (nullable = true)\n",
      " |    |    |-- hospital: array (nullable = true)\n",
      " |    |    |    |-- element: string (containsNull = true)\n",
      " |    |    |-- name: string (nullable = true)\n",
      " |    |-- button: struct (nullable = true)\n",
      " |    |    |-- hospital: array (nullable = true)\n",
      " |    |    |    |-- element: string (containsNull = true)\n",
      " |    |    |-- link: string (nullable = true)\n",
      " |    |    |-- name: string (nullable = true)\n",
      " |    |    |-- position: double (nullable = true)\n",
      " |    |    |-- region: array (nullable = true)\n",
      " |    |    |    |-- element: string (containsNull = true)\n",
      " |    |    |-- selected_item: string (nullable = true)\n",
      " |    |-- category: string (nullable = true)\n",
      " |    |-- name: string (nullable = true)\n",
      " |    |-- page: struct (nullable = true)\n",
      " |    |    |-- name: string (nullable = true)\n",
      " |    |-- path: string (nullable = true)\n",
      " |    |-- properties: struct (nullable = true)\n",
      " |    |    |-- hospitalId: string (nullable = true)\n",
      " |    |    |-- name: string (nullable = true)\n",
      " |    |    |-- pageName: string (nullable = true)\n",
      " |    |    |-- path: string (nullable = true)\n",
      " |    |    |-- routeName: string (nullable = true)\n",
      " |    |    |-- search: struct (nullable = true)\n",
      " |    |    |    |-- sort: string (nullable = true)\n",
      " |    |    |    |-- utm_campaign: string (nullable = true)\n",
      " |    |    |    |-- utm_content: string (nullable = true)\n",
      " |    |    |    |-- utm_medium: string (nullable = true)\n",
      " |    |    |    |-- utm_source: string (nullable = true)\n",
      " |    |    |    |-- utm_term: string (nullable = true)\n",
      " |    |    |-- to: string (nullable = true)\n",
      " |    |    |-- url: string (nullable = true)\n",
      " |    |-- referrer: string (nullable = true)\n",
      " |    |-- search: string (nullable = true)\n",
      " |    |-- title: string (nullable = true)\n",
      " |    |-- type: string (nullable = true)\n",
      " |    |-- url: string (nullable = true)\n",
      " |    |-- userId: string (nullable = true)\n",
      " |    |-- version: string (nullable = true)\n",
      " |-- receivedAt: string (nullable = true)\n",
      " |-- sentAt: string (nullable = true)\n",
      " |-- timestamp: string (nullable = true)\n",
      " |-- traits: struct (nullable = true)\n",
      " |    |-- customerId: string (nullable = true)\n",
      " |-- type: string (nullable = true)\n",
      " |-- userId: string (nullable = true)\n",
      " |-- version: long (nullable = true)\n",
      "\n"
     ]
    }
   ],
   "source": [
    "df1.printSchema()"
   ]
  },
  {
   "cell_type": "code",
   "execution_count": 7,
   "metadata": {
    "execution": {
     "iopub.execute_input": "2023-11-30T00:36:11.093182Z",
     "iopub.status.busy": "2023-11-30T00:36:11.093015Z",
     "iopub.status.idle": "2023-11-30T00:36:12.352681Z",
     "shell.execute_reply": "2023-11-30T00:36:12.351933Z",
     "shell.execute_reply.started": "2023-11-30T00:36:11.093162Z"
    }
   },
   "outputs": [
    {
     "data": {
      "application/vnd.jupyter.widget-view+json": {
       "model_id": "0ab65a9d5b3f4db3baad39238a3d488f",
       "version_major": 2,
       "version_minor": 0
      },
      "text/plain": [
       "VBox()"
      ]
     },
     "metadata": {},
     "output_type": "display_data"
    },
    {
     "data": {
      "application/vnd.jupyter.widget-view+json": {
       "model_id": "",
       "version_major": 2,
       "version_minor": 0
      },
      "text/plain": [
       "FloatProgress(value=0.0, bar_style='info', description='Progress:', layout=Layout(height='25px', width='50%'),…"
      ]
     },
     "metadata": {},
     "output_type": "display_data"
    }
   ],
   "source": [
    "df1.createOrReplaceTempView(\"df\")"
   ]
  },
  {
   "cell_type": "code",
   "execution_count": 8,
   "metadata": {
    "execution": {
     "iopub.execute_input": "2023-11-30T00:36:12.354703Z",
     "iopub.status.busy": "2023-11-30T00:36:12.354533Z",
     "iopub.status.idle": "2023-11-30T00:36:14.662045Z",
     "shell.execute_reply": "2023-11-30T00:36:14.661285Z",
     "shell.execute_reply.started": "2023-11-30T00:36:12.354682Z"
    },
    "tags": []
   },
   "outputs": [
    {
     "data": {
      "application/vnd.jupyter.widget-view+json": {
       "model_id": "ae0e11289a464d24b5ced6855648789f",
       "version_major": 2,
       "version_minor": 0
      },
      "text/plain": [
       "VBox()"
      ]
     },
     "metadata": {},
     "output_type": "display_data"
    },
    {
     "data": {
      "application/vnd.jupyter.widget-view+json": {
       "model_id": "",
       "version_major": 2,
       "version_minor": 0
      },
      "text/plain": [
       "FloatProgress(value=0.0, bar_style='info', description='Progress:', layout=Layout(height='25px', width='50%'),…"
      ]
     },
     "metadata": {},
     "output_type": "display_data"
    },
    {
     "name": "stdout",
     "output_type": "stream",
     "text": [
      "check_data: org.apache.spark.sql.DataFrame = [anonymousid: string, context_useragent: string ... 19 more fields]\n"
     ]
    }
   ],
   "source": [
    "val check_data = spark.sql(\"\"\"\n",
    "SELECT anonymousid, context.userAgent as context_useragent, context.ip as context_ip, context.locale as context_locale, context.page.url as context_page_url, context, messageid, properties.path as properties_path, properties.page as properties_page, properties.button.name as properties_button_name, properties.action.name as properties_action_name, properties.action.hospital as properties_action_hospital, properties.button.hospital as properties_button_hospital, properties.properties.hospitalid as properties_properties_hospitalid, properties.properties.pagename as properties_properties_pagename, properties.properties.routename as properties_properties_routename, properties.properties.to as properties_properties_to, properties, event, type, userId\n",
    "FROM df\n",
    "LIMIT 5;\n",
    "\"\"\")\n",
    "//, convert_timezone(\"KST\", \"UTC\", timestamp) as timestamp, to_char(dateadd('day', 1, convert_timezone(\"KST\", \"UTC\", timestamp)),'IYYY-IW') as yw, dateadd('day', -1, date_trunc('week', dateadd('day', 1, convert_timezone(\"KST\", \"UTC\", timestamp)))) as ywd, to_char(convert_timezone(\"KST\", \"UTC\", timestamp), 'yyyy-mm') as ym, to_char(convert_timezone(\"KST\", \"UTC\", timestamp), 'yyyy-mm-dd') as ymd"
   ]
  },
  {
   "cell_type": "code",
   "execution_count": 9,
   "metadata": {
    "execution": {
     "iopub.execute_input": "2023-11-30T00:36:14.663977Z",
     "iopub.status.busy": "2023-11-30T00:36:14.663694Z",
     "iopub.status.idle": "2023-11-30T00:36:23.984354Z",
     "shell.execute_reply": "2023-11-30T00:36:23.983720Z",
     "shell.execute_reply.started": "2023-11-30T00:36:14.663943Z"
    },
    "tags": []
   },
   "outputs": [
    {
     "data": {
      "application/vnd.jupyter.widget-view+json": {
       "model_id": "7d626a42f9da44af9f2566c6f39c3f4f",
       "version_major": 2,
       "version_minor": 0
      },
      "text/plain": [
       "VBox()"
      ]
     },
     "metadata": {},
     "output_type": "display_data"
    },
    {
     "data": {
      "application/vnd.jupyter.widget-view+json": {
       "model_id": "",
       "version_major": 2,
       "version_minor": 0
      },
      "text/plain": [
       "FloatProgress(value=0.0, bar_style='info', description='Progress:', layout=Layout(height='25px', width='50%'),…"
      ]
     },
     "metadata": {},
     "output_type": "display_data"
    },
    {
     "name": "stdout",
     "output_type": "stream",
     "text": [
      "+--------------------+--------------------+--------------+--------------+--------------------+--------------------+--------------------+---------------+---------------+----------------------+----------------------+--------------------------+--------------------------+--------------------------------+------------------------------+-------------------------------+------------------------+--------------------+-----+--------+--------------------+\n",
      "|         anonymousid|   context_useragent|    context_ip|context_locale|    context_page_url|             context|           messageid|properties_path|properties_page|properties_button_name|properties_action_name|properties_action_hospital|properties_button_hospital|properties_properties_hospitalid|properties_properties_pagename|properties_properties_routename|properties_properties_to|          properties|event|    type|              userId|\n",
      "+--------------------+--------------------+--------------+--------------+--------------------+--------------------+--------------------+---------------+---------------+----------------------+----------------------+--------------------------+--------------------------+--------------------------------+------------------------------+-------------------------------+------------------------+--------------------+-----+--------+--------------------+\n",
      "|9d9a3a32-27f0-4af...|Mozilla/5.0 (Maci...| 220.92.76.236|         ko-KR|https://medistrea...|{{null, null, nul...|ajs-next-99c48690...|/articles/48538|           null|                  null|                  null|                      null|                      null|                            null|                          null|                           null|                    null|{null, null, , Ar...| null|    page|6236b1368b11ae2c3...|\n",
      "|bf083d50-d4e7-446...|Mozilla/5.0 (Linu...|106.101.192.16|         ko-KR|https://medistrea...|{null, 106.101.19...|ajs-next-f4e6d175...|           null|           null|                  null|                  null|                      null|                      null|                            null|                          null|                           null|                    null|                null| null|identify|26923715f3ce9bff2...|\n",
      "|07603f5a-7164-428...|Mozilla/5.0 (iPho...|172.225.52.238|         ko-KR|https://medistrea...|{{null, null, nul...|ajs-next-6694a64b...|           null|           null|                  null|                  null|                      null|                      null|                            null|                          null|                           null|                    null|                null| null|identify|4e1351459ec8eb99a...|\n",
      "|07603f5a-7164-428...|Mozilla/5.0 (iPho...|172.225.52.238|         ko-KR|https://medistrea...|{{null, null, nul...|ajs-next-3cb785d8...|           null|           null|                  null|                  null|                      null|                      null|                            null|                          null|                           null|                    null|                null| null|identify|4e1351459ec8eb99a...|\n",
      "|478d4f77-0126-4d4...|Mozilla/5.0 (iPho...| 61.83.224.247|         ko-KR|https://medistrea...|{null, 61.83.224....|ajs-next-88eb97be...|           null|           null|                  null|                  null|                      null|                      null|                            null|                          null|                           null|                    null|                null| null|identify|1c93dbb79c150d0fa...|\n",
      "+--------------------+--------------------+--------------+--------------+--------------------+--------------------+--------------------+---------------+---------------+----------------------+----------------------+--------------------------+--------------------------+--------------------------------+------------------------------+-------------------------------+------------------------+--------------------+-----+--------+--------------------+\n",
      "\n"
     ]
    }
   ],
   "source": [
    "check_data.show()"
   ]
  },
  {
   "cell_type": "code",
   "execution_count": 11,
   "metadata": {
    "execution": {
     "iopub.execute_input": "2023-11-30T00:36:24.754452Z",
     "iopub.status.busy": "2023-11-30T00:36:24.754189Z",
     "iopub.status.idle": "2023-11-30T00:36:26.016011Z",
     "shell.execute_reply": "2023-11-30T00:36:26.015359Z",
     "shell.execute_reply.started": "2023-11-30T00:36:24.754418Z"
    }
   },
   "outputs": [
    {
     "data": {
      "application/vnd.jupyter.widget-view+json": {
       "model_id": "55eaf8e07a7248c29774b4936ed2741e",
       "version_major": 2,
       "version_minor": 0
      },
      "text/plain": [
       "VBox()"
      ]
     },
     "metadata": {},
     "output_type": "display_data"
    },
    {
     "data": {
      "application/vnd.jupyter.widget-view+json": {
       "model_id": "",
       "version_major": 2,
       "version_minor": 0
      },
      "text/plain": [
       "FloatProgress(value=0.0, bar_style='info', description='Progress:', layout=Layout(height='25px', width='50%'),…"
      ]
     },
     "metadata": {},
     "output_type": "display_data"
    },
    {
     "name": "stdout",
     "output_type": "stream",
     "text": [
      "root\n",
      " |-- anonymousid: string (nullable = true)\n",
      " |-- context_useragent: string (nullable = true)\n",
      " |-- context_ip: string (nullable = true)\n",
      " |-- context_locale: string (nullable = true)\n",
      " |-- context_page_url: string (nullable = true)\n",
      " |-- context: struct (nullable = true)\n",
      " |    |-- campaign: struct (nullable = true)\n",
      " |    |    |-- content: string (nullable = true)\n",
      " |    |    |-- id: string (nullable = true)\n",
      " |    |    |-- medium: string (nullable = true)\n",
      " |    |    |-- mediumKMDForest: string (nullable = true)\n",
      " |    |    |-- name: string (nullable = true)\n",
      " |    |    |-- soruce: string (nullable = true)\n",
      " |    |    |-- source: string (nullable = true)\n",
      " |    |    |-- term: string (nullable = true)\n",
      " |    |-- ip: string (nullable = true)\n",
      " |    |-- library: struct (nullable = true)\n",
      " |    |    |-- name: string (nullable = true)\n",
      " |    |    |-- version: string (nullable = true)\n",
      " |    |-- locale: string (nullable = true)\n",
      " |    |-- page: struct (nullable = true)\n",
      " |    |    |-- path: string (nullable = true)\n",
      " |    |    |-- referrer: string (nullable = true)\n",
      " |    |    |-- search: string (nullable = true)\n",
      " |    |    |-- title: string (nullable = true)\n",
      " |    |    |-- url: string (nullable = true)\n",
      " |    |-- userAgent: string (nullable = true)\n",
      " |    |-- userAgentData: struct (nullable = true)\n",
      " |    |    |-- brands: array (nullable = true)\n",
      " |    |    |    |-- element: struct (containsNull = true)\n",
      " |    |    |    |    |-- brand: string (nullable = true)\n",
      " |    |    |    |    |-- version: string (nullable = true)\n",
      " |    |    |-- mobile: boolean (nullable = true)\n",
      " |    |    |-- platform: string (nullable = true)\n",
      " |-- messageid: string (nullable = true)\n",
      " |-- properties_path: string (nullable = true)\n",
      " |-- properties_page: struct (nullable = true)\n",
      " |    |-- name: string (nullable = true)\n",
      " |-- properties_button_name: string (nullable = true)\n",
      " |-- properties_action_name: string (nullable = true)\n",
      " |-- properties_action_hospital: array (nullable = true)\n",
      " |    |-- element: string (containsNull = true)\n",
      " |-- properties_button_hospital: array (nullable = true)\n",
      " |    |-- element: string (containsNull = true)\n",
      " |-- properties_properties_hospitalid: string (nullable = true)\n",
      " |-- properties_properties_pagename: string (nullable = true)\n",
      " |-- properties_properties_routename: string (nullable = true)\n",
      " |-- properties_properties_to: string (nullable = true)\n",
      " |-- properties: struct (nullable = true)\n",
      " |    |-- action: struct (nullable = true)\n",
      " |    |    |-- hospital: array (nullable = true)\n",
      " |    |    |    |-- element: string (containsNull = true)\n",
      " |    |    |-- name: string (nullable = true)\n",
      " |    |-- button: struct (nullable = true)\n",
      " |    |    |-- hospital: array (nullable = true)\n",
      " |    |    |    |-- element: string (containsNull = true)\n",
      " |    |    |-- link: string (nullable = true)\n",
      " |    |    |-- name: string (nullable = true)\n",
      " |    |    |-- position: double (nullable = true)\n",
      " |    |    |-- region: array (nullable = true)\n",
      " |    |    |    |-- element: string (containsNull = true)\n",
      " |    |    |-- selected_item: string (nullable = true)\n",
      " |    |-- category: string (nullable = true)\n",
      " |    |-- name: string (nullable = true)\n",
      " |    |-- page: struct (nullable = true)\n",
      " |    |    |-- name: string (nullable = true)\n",
      " |    |-- path: string (nullable = true)\n",
      " |    |-- properties: struct (nullable = true)\n",
      " |    |    |-- hospitalId: string (nullable = true)\n",
      " |    |    |-- name: string (nullable = true)\n",
      " |    |    |-- pageName: string (nullable = true)\n",
      " |    |    |-- path: string (nullable = true)\n",
      " |    |    |-- routeName: string (nullable = true)\n",
      " |    |    |-- search: struct (nullable = true)\n",
      " |    |    |    |-- sort: string (nullable = true)\n",
      " |    |    |    |-- utm_campaign: string (nullable = true)\n",
      " |    |    |    |-- utm_content: string (nullable = true)\n",
      " |    |    |    |-- utm_medium: string (nullable = true)\n",
      " |    |    |    |-- utm_source: string (nullable = true)\n",
      " |    |    |    |-- utm_term: string (nullable = true)\n",
      " |    |    |-- to: string (nullable = true)\n",
      " |    |    |-- url: string (nullable = true)\n",
      " |    |-- referrer: string (nullable = true)\n",
      " |    |-- search: string (nullable = true)\n",
      " |    |-- title: string (nullable = true)\n",
      " |    |-- type: string (nullable = true)\n",
      " |    |-- url: string (nullable = true)\n",
      " |    |-- userId: string (nullable = true)\n",
      " |    |-- version: string (nullable = true)\n",
      " |-- event: string (nullable = true)\n",
      " |-- type: string (nullable = true)\n",
      " |-- userId: string (nullable = true)\n",
      "\n"
     ]
    }
   ],
   "source": [
    "check_data.printSchema()"
   ]
  },
  {
   "cell_type": "code",
   "execution_count": 18,
   "metadata": {
    "execution": {
     "iopub.execute_input": "2023-11-30T01:04:51.017241Z",
     "iopub.status.busy": "2023-11-30T01:04:51.017067Z",
     "iopub.status.idle": "2023-11-30T01:05:22.400794Z",
     "shell.execute_reply": "2023-11-30T01:05:22.400125Z",
     "shell.execute_reply.started": "2023-11-30T01:04:51.017219Z"
    },
    "tags": []
   },
   "outputs": [
    {
     "data": {
      "application/vnd.jupyter.widget-view+json": {
       "model_id": "1b573f7a18874696b85878323836edd7",
       "version_major": 2,
       "version_minor": 0
      },
      "text/plain": [
       "VBox()"
      ]
     },
     "metadata": {},
     "output_type": "display_data"
    },
    {
     "data": {
      "application/vnd.jupyter.widget-view+json": {
       "model_id": "",
       "version_major": 2,
       "version_minor": 0
      },
      "text/plain": [
       "FloatProgress(value=0.0, bar_style='info', description='Progress:', layout=Layout(height='25px', width='50%'),…"
      ]
     },
     "metadata": {},
     "output_type": "display_data"
    },
    {
     "name": "stdout",
     "output_type": "stream",
     "text": [
      "res15: Long = 4055\n"
     ]
    }
   ],
   "source": [
    "spark.sql(\"select properties.action.hospital from df where properties.action.hospital is not null;\").count()"
   ]
  },
  {
   "cell_type": "code",
   "execution_count": null,
   "metadata": {},
   "outputs": [],
   "source": []
  }
 ],
 "metadata": {
  "kernelspec": {
   "display_name": "Spark",
   "language": "scala",
   "name": "sparkkernel"
  },
  "language_info": {
   "codemirror_mode": "text/x-scala",
   "file_extension": ".sc",
   "mimetype": "text/x-scala",
   "name": "scala",
   "pygments_lexer": "scala"
  }
 },
 "nbformat": 4,
 "nbformat_minor": 4
}
