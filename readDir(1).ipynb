{
 "cells": [
  {
   "cell_type": "code",
   "execution_count": 2,
   "metadata": {
    "execution": {
     "iopub.execute_input": "2023-12-04T11:23:53.222658Z",
     "iopub.status.busy": "2023-12-04T11:23:53.222488Z",
     "iopub.status.idle": "2023-12-04T11:23:55.518490Z",
     "shell.execute_reply": "2023-12-04T11:23:55.517767Z",
     "shell.execute_reply.started": "2023-12-04T11:23:53.222637Z"
    },
    "tags": []
   },
   "outputs": [
    {
     "data": {
      "application/vnd.jupyter.widget-view+json": {
       "model_id": "52458fb369e9456d915f0eaef51f5948",
       "version_major": 2,
       "version_minor": 0
      },
      "text/plain": [
       "VBox()"
      ]
     },
     "metadata": {},
     "output_type": "display_data"
    },
    {
     "data": {
      "application/vnd.jupyter.widget-view+json": {
       "model_id": "",
       "version_major": 2,
       "version_minor": 0
      },
      "text/plain": [
       "FloatProgress(value=0.0, bar_style='info', description='Progress:', layout=Layout(height='25px', width='50%'),…"
      ]
     },
     "metadata": {},
     "output_type": "display_data"
    },
    {
     "name": "stdout",
     "output_type": "stream",
     "text": [
      "import org.apache.spark.sql.SparkSession\n",
      "import org.apache.hadoop.fs.{FileSystem, Path}\n",
      "import java.net.{URI, URL}\n"
     ]
    }
   ],
   "source": [
    "import org.apache.spark.sql.SparkSession\n",
    "import org.apache.hadoop.fs.{FileSystem,Path}\n",
    "import java.net.URI"
   ]
  },
  {
   "cell_type": "code",
   "execution_count": 3,
   "metadata": {
    "execution": {
     "iopub.execute_input": "2023-12-04T11:23:55.520178Z",
     "iopub.status.busy": "2023-12-04T11:23:55.519999Z",
     "iopub.status.idle": "2023-12-04T11:24:00.835854Z",
     "shell.execute_reply": "2023-12-04T11:24:00.835162Z",
     "shell.execute_reply.started": "2023-12-04T11:23:55.520156Z"
    },
    "tags": []
   },
   "outputs": [
    {
     "data": {
      "application/vnd.jupyter.widget-view+json": {
       "model_id": "28935fbbc2ca48b89f4b4a0955014dab",
       "version_major": 2,
       "version_minor": 0
      },
      "text/plain": [
       "VBox()"
      ]
     },
     "metadata": {},
     "output_type": "display_data"
    },
    {
     "data": {
      "application/vnd.jupyter.widget-view+json": {
       "model_id": "",
       "version_major": 2,
       "version_minor": 0
      },
      "text/plain": [
       "FloatProgress(value=0.0, bar_style='info', description='Progress:', layout=Layout(height='25px', width='50%'),…"
      ]
     },
     "metadata": {},
     "output_type": "display_data"
    },
    {
     "name": "stdout",
     "output_type": "stream",
     "text": [
      "spark: org.apache.spark.sql.SparkSession = org.apache.spark.sql.SparkSession@71069b9\n"
     ]
    }
   ],
   "source": [
    "val spark = SparkSession.builder.appName(\"readDir\").getOrCreate()"
   ]
  },
  {
   "cell_type": "code",
   "execution_count": 4,
   "metadata": {
    "execution": {
     "iopub.execute_input": "2023-12-04T11:24:00.837720Z",
     "iopub.status.busy": "2023-12-04T11:24:00.837473Z",
     "iopub.status.idle": "2023-12-04T11:24:04.125409Z",
     "shell.execute_reply": "2023-12-04T11:24:04.124785Z",
     "shell.execute_reply.started": "2023-12-04T11:24:00.837686Z"
    },
    "tags": []
   },
   "outputs": [
    {
     "data": {
      "application/vnd.jupyter.widget-view+json": {
       "model_id": "075cae86211442cbad785af3d0611f80",
       "version_major": 2,
       "version_minor": 0
      },
      "text/plain": [
       "VBox()"
      ]
     },
     "metadata": {},
     "output_type": "display_data"
    },
    {
     "data": {
      "application/vnd.jupyter.widget-view+json": {
       "model_id": "",
       "version_major": 2,
       "version_minor": 0
      },
      "text/plain": [
       "FloatProgress(value=0.0, bar_style='info', description='Progress:', layout=Layout(height='25px', width='50%'),…"
      ]
     },
     "metadata": {},
     "output_type": "display_data"
    },
    {
     "name": "stdout",
     "output_type": "stream",
     "text": [
      "path: String = s3://emr-data-sync/segment-logs/\n",
      "conf: org.apache.hadoop.conf.Configuration = Configuration: core-default.xml, core-site.xml, yarn-default.xml, yarn-site.xml, resource-types.xml, mapred-default.xml, mapred-site.xml, hdfs-default.xml, hdfs-rbf-default.xml, hdfs-site.xml, hdfs-rbf-site.xml, __spark_hadoop_conf__.xml\n",
      "fs: org.apache.hadoop.fs.FileSystem = com.amazon.ws.emr.hadoop.fs.s3n.S3NativeFileSystem@68e88670\n"
     ]
    }
   ],
   "source": [
    "val path = \"s3://emr-data-sync/segment-logs/\"\n",
    "val conf = spark.sparkContext.hadoopConfiguration\n",
    "val fs = FileSystem.get(new URI(path), conf)"
   ]
  },
  {
   "cell_type": "code",
   "execution_count": 6,
   "metadata": {
    "execution": {
     "iopub.execute_input": "2023-12-04T11:24:04.903339Z",
     "iopub.status.busy": "2023-12-04T11:24:04.903119Z",
     "iopub.status.idle": "2023-12-04T11:24:06.172937Z",
     "shell.execute_reply": "2023-12-04T11:24:06.172237Z",
     "shell.execute_reply.started": "2023-12-04T11:24:04.903315Z"
    },
    "tags": []
   },
   "outputs": [
    {
     "data": {
      "application/vnd.jupyter.widget-view+json": {
       "model_id": "6a4f5b12b1be4af2bf3fc24d09c2692a",
       "version_major": 2,
       "version_minor": 0
      },
      "text/plain": [
       "VBox()"
      ]
     },
     "metadata": {},
     "output_type": "display_data"
    },
    {
     "data": {
      "application/vnd.jupyter.widget-view+json": {
       "model_id": "",
       "version_major": 2,
       "version_minor": 0
      },
      "text/plain": [
       "FloatProgress(value=0.0, bar_style='info', description='Progress:', layout=Layout(height='25px', width='50%'),…"
      ]
     },
     "metadata": {},
     "output_type": "display_data"
    },
    {
     "name": "stdout",
     "output_type": "stream",
     "text": [
      "getDirs: (path: String)Array[String]\n"
     ]
    }
   ],
   "source": [
    "def getDirs(path: String) = fs.listStatus(new Path(path)).filter(_.isDirectory).map(_.getPath.toString)"
   ]
  },
  {
   "cell_type": "code",
   "execution_count": 9,
   "metadata": {
    "execution": {
     "iopub.execute_input": "2023-12-04T11:24:22.761482Z",
     "iopub.status.busy": "2023-12-04T11:24:22.761181Z",
     "iopub.status.idle": "2023-12-04T11:24:24.029309Z",
     "shell.execute_reply": "2023-12-04T11:24:24.028589Z",
     "shell.execute_reply.started": "2023-12-04T11:24:22.761448Z"
    },
    "tags": []
   },
   "outputs": [
    {
     "data": {
      "application/vnd.jupyter.widget-view+json": {
       "model_id": "fe160b67f40b45699991976aa8e55008",
       "version_major": 2,
       "version_minor": 0
      },
      "text/plain": [
       "VBox()"
      ]
     },
     "metadata": {},
     "output_type": "display_data"
    },
    {
     "data": {
      "application/vnd.jupyter.widget-view+json": {
       "model_id": "",
       "version_major": 2,
       "version_minor": 0
      },
      "text/plain": [
       "FloatProgress(value=0.0, bar_style='info', description='Progress:', layout=Layout(height='25px', width='50%'),…"
      ]
     },
     "metadata": {},
     "output_type": "display_data"
    },
    {
     "name": "stdout",
     "output_type": "stream",
     "text": [
      "result: Array[String] = Array(1684368000000, 1684454400000, 1684540800000, 1684627200000, 1684713600000, 1684972800000, 1685923200000, 1686268800000, 1687824000000, 1688774400000, 1689724800000, 1691712000000, 1693008000000, 1693612800000, 1693958400000, 1694044800000, 1694390400000, 1694649600000, 1694736000000, 1694995200000, 1695340800000, 1696032000000, 1696377600000, 1696464000000, 1696982400000, 1697155200000, 1697932800000, 1684454400000, 1684540800000, 1684627200000, 1684713600000, 1684800000000, 1684886400000, 1684972800000, 1685059200000, 1685145600000, 1685318400000, 1685404800000, 1685491200000, 1685577600000, 1685664000000, 1685750400000, 1685836800000, 1685923200000, 1686009600000, 1686096000000, 1686182400000, 1686268800000, 1652313600000, 1652400000000, 1652486400000, 16...\n"
     ]
    }
   ],
   "source": [
    "val result = for {\n",
    "  path <- getDirs(path)\n",
    "  dir <- getDirs(path)\n",
    "} yield dir.split(\"/\").last"
   ]
  },
  {
   "cell_type": "code",
   "execution_count": 10,
   "metadata": {
    "execution": {
     "iopub.execute_input": "2023-12-04T11:24:24.157504Z",
     "iopub.status.busy": "2023-12-04T11:24:24.157290Z",
     "iopub.status.idle": "2023-12-04T11:24:24.915483Z",
     "shell.execute_reply": "2023-12-04T11:24:24.914769Z",
     "shell.execute_reply.started": "2023-12-04T11:24:24.157482Z"
    }
   },
   "outputs": [
    {
     "data": {
      "application/vnd.jupyter.widget-view+json": {
       "model_id": "5c357a195993432b8d2dd95b181724b6",
       "version_major": 2,
       "version_minor": 0
      },
      "text/plain": [
       "VBox()"
      ]
     },
     "metadata": {},
     "output_type": "display_data"
    },
    {
     "data": {
      "application/vnd.jupyter.widget-view+json": {
       "model_id": "",
       "version_major": 2,
       "version_minor": 0
      },
      "text/plain": [
       "FloatProgress(value=0.0, bar_style='info', description='Progress:', layout=Layout(height='25px', width='50%'),…"
      ]
     },
     "metadata": {},
     "output_type": "display_data"
    },
    {
     "name": "stdout",
     "output_type": "stream",
     "text": [
      "1684368000000\n",
      "1684454400000\n",
      "1684540800000\n",
      "1684627200000\n",
      "1684713600000\n",
      "1684972800000\n",
      "1685923200000\n",
      "1686268800000\n",
      "1687824000000\n",
      "1688774400000\n",
      "1689724800000\n",
      "1691712000000\n",
      "1693008000000\n",
      "1693612800000\n",
      "1693958400000\n",
      "1694044800000\n",
      "1694390400000\n",
      "1694649600000\n",
      "1694736000000\n",
      "1694995200000\n",
      "1695340800000\n",
      "1696032000000\n",
      "1696377600000\n",
      "1696464000000\n",
      "1696982400000\n",
      "1697155200000\n",
      "1697932800000\n",
      "1684454400000\n",
      "1684540800000\n",
      "1684627200000\n",
      "1684713600000\n",
      "1684800000000\n",
      "1684886400000\n",
      "1684972800000\n",
      "1685059200000\n",
      "1685145600000\n",
      "1685318400000\n",
      "1685404800000\n",
      "1685491200000\n",
      "1685577600000\n",
      "1685664000000\n",
      "1685750400000\n",
      "1685836800000\n",
      "1685923200000\n",
      "1686009600000\n",
      "1686096000000\n",
      "1686182400000\n",
      "1686268800000\n",
      "1652313600000\n",
      "1652400000000\n",
      "1652486400000\n",
      "1652572800000\n",
      "1652659200000\n",
      "1652745600000\n",
      "1652832000000\n",
      "1652918400000\n",
      "1653004800000\n",
      "1653091200000\n",
      "1653177600000\n",
      "1653264000000\n",
      "1653350400000\n",
      "1653436800000\n",
      "1653523200000\n",
      "1653609600000\n",
      "1653696000000\n",
      "1653782400000\n",
      "1653868800000\n",
      "1653955200000\n",
      "1654041600000\n",
      "1654128000000\n",
      "1654214400000\n",
      "1654300800000\n",
      "1654387200000\n",
      "1654473600000\n",
      "1654560000000\n",
      "1654646400000\n",
      "1654732800000\n",
      "1654819200000\n",
      "1654905600000\n",
      "1654992000000\n",
      "1655078400000\n",
      "1655164800000\n",
      "1655251200000\n",
      "1655337600000\n",
      "1655424000000\n",
      "1655510400000\n",
      "1655596800000\n",
      "1655683200000\n",
      "1655769600000\n",
      "1655856000000\n",
      "1655942400000\n",
      "1656028800000\n",
      "1656115200000\n",
      "1656201600000\n",
      "1656288000000\n",
      "1656374400000\n",
      "1656460800000\n",
      "1656547200000\n",
      "1656633600000\n",
      "1656720000000\n",
      "1656806400000\n",
      "1656892800000\n",
      "1656979200000\n",
      "1657065600000\n",
      "1657152000000\n",
      "1657238400000\n",
      "1657324800000\n",
      "1657411200000\n",
      "1657497600000\n",
      "1657584000000\n",
      "1657670400000\n",
      "1657756800000\n",
      "1657843200000\n",
      "1657929600000\n",
      "1658016000000\n",
      "1658102400000\n",
      "1658188800000\n",
      "1658275200000\n",
      "1658361600000\n",
      "1658448000000\n",
      "1658534400000\n",
      "1658620800000\n",
      "1658707200000\n",
      "1658793600000\n",
      "1658880000000\n",
      "1658966400000\n",
      "1659052800000\n",
      "1659139200000\n",
      "1659225600000\n",
      "1659312000000\n",
      "1659398400000\n",
      "1659484800000\n",
      "1659571200000\n",
      "1659657600000\n",
      "1659744000000\n",
      "1659830400000\n",
      "1659916800000\n",
      "1660003200000\n",
      "1660089600000\n",
      "1660176000000\n",
      "1660262400000\n",
      "1660348800000\n",
      "1660435200000\n",
      "1660521600000\n",
      "1660608000000\n",
      "1660694400000\n",
      "1660780800000\n",
      "1660867200000\n",
      "1660953600000\n",
      "1661040000000\n",
      "1661126400000\n",
      "1661212800000\n",
      "1661299200000\n",
      "1661385600000\n",
      "1661472000000\n",
      "1661558400000\n",
      "1661644800000\n",
      "1661731200000\n",
      "1661817600000\n",
      "1661904000000\n",
      "1661990400000\n",
      "1662076800000\n",
      "1662163200000\n",
      "1662249600000\n",
      "1662336000000\n",
      "1662422400000\n",
      "1662508800000\n",
      "1662595200000\n",
      "1662681600000\n",
      "1662768000000\n",
      "1662854400000\n",
      "1662940800000\n",
      "1663027200000\n",
      "1663113600000\n",
      "1663200000000\n",
      "1663286400000\n",
      "1663372800000\n",
      "1663459200000\n",
      "1663545600000\n",
      "1663632000000\n",
      "1663718400000\n",
      "1663804800000\n",
      "1663891200000\n",
      "1663977600000\n",
      "1664064000000\n",
      "1664150400000\n",
      "1664236800000\n",
      "1664323200000\n",
      "1664409600000\n",
      "1664496000000\n",
      "1664582400000\n",
      "1664668800000\n",
      "1664755200000\n"
     ]
    }
   ],
   "source": [
    "result.foreach(println)"
   ]
  },
  {
   "cell_type": "code",
   "execution_count": null,
   "metadata": {},
   "outputs": [],
   "source": []
  }
 ],
 "metadata": {
  "kernelspec": {
   "display_name": "Spark",
   "language": "scala",
   "name": "sparkkernel"
  },
  "language_info": {
   "codemirror_mode": "text/x-scala",
   "file_extension": ".sc",
   "mimetype": "text/x-scala",
   "name": "scala",
   "pygments_lexer": "scala"
  }
 },
 "nbformat": 4,
 "nbformat_minor": 4
}
